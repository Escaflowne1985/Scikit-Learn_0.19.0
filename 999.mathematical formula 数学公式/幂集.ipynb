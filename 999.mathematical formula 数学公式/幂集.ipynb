{
 "cells": [
  {
   "cell_type": "code",
   "execution_count": 17,
   "metadata": {},
   "outputs": [],
   "source": [
    "def power_set(s):\n",
    "    n = len(s)\n",
    "    test_marks = [ 1<<i for i in range(0, n) ]\n",
    "    for k in range(0, 2**n):\n",
    "        l = []\n",
    "        for idx, item in enumerate(test_marks):\n",
    "            if k&item:\n",
    "                l.append(s[idx])\n",
    "        yield set(l)\n",
    "#A simple test\n",
    "\n",
    "lists=[]\n",
    "s = ['口味特点-001','口味特点-002','口味特点-003','口味特点-004','口味特点-005','口味特点-006','口味特点-007','口味特点-008',\\\n",
    "     '口味特点-009','口味特点-010','口味特点-011','口味特点-012','口味特点-013','口味特点-014','口味特点-015','口味特点-016',\\\n",
    "     '口味特点-017','口味特点-018']\n",
    "for e in power_set(s):\n",
    "    lists.append (e)"
   ]
  },
  {
   "cell_type": "code",
   "execution_count": 18,
   "metadata": {},
   "outputs": [],
   "source": [
    "import pandas as pd\n",
    "myList1 = sorted(lists,key = lambda i:len(i),reverse=False) \n",
    "pd.DataFrame(myList1).to_csv(\"aa.csv\")"
   ]
  },
  {
   "cell_type": "code",
   "execution_count": null,
   "metadata": {},
   "outputs": [],
   "source": []
  }
 ],
 "metadata": {
  "kernelspec": {
   "display_name": "Python 3",
   "language": "python",
   "name": "python3"
  },
  "language_info": {
   "codemirror_mode": {
    "name": "ipython",
    "version": 3
   },
   "file_extension": ".py",
   "mimetype": "text/x-python",
   "name": "python",
   "nbconvert_exporter": "python",
   "pygments_lexer": "ipython3",
   "version": "3.6.5"
  }
 },
 "nbformat": 4,
 "nbformat_minor": 2
}
