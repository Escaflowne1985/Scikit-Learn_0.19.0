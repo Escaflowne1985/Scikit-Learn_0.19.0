{
 "cells": [
  {
   "cell_type": "markdown",
   "metadata": {},
   "source": [
    "# SparsePCA\n",
    "(n_components=None, alpha=1, ridge_alpha=0.01, max_iter=1000, tol=1e-08, method=’lars’, n_jobs=None, U_init=None, V_init=None, verbose=False, random_state=None, normalize_components=False)"
   ]
  },
  {
   "cell_type": "markdown",
   "metadata": {},
   "source": [
    "* <font color=red>n_components</font>: int   \n",
    "要提取的稀疏原子的数目。\n",
    "* <font color=red>alpha</font>: float    \n",
    "稀疏的控制参数。更高的值会导致更少的组件。\n",
    "* <font color=red>ridge_alpha</font>: float    \n",
    "Amount of ridge shrinkage to apply in order to improve conditioning when calling the transform method.\n",
    "* <font color=red>max_iter</font>: int   \n",
    "要执行的最大迭代次数。\n",
    "* <font color=red>tol</font>: float  \n",
    "停止公差\n",
    "* <font color=red>method</font>: {'lars', 'cd'}  \n",
    "lars: 利用最小角度回归方法求解套索问题(linear_model.lars_path)\n",
    "cd: 使用坐标下降法计算套索解(linear_model.套索)。如果估计的组件是稀疏的，Lars将会更快。\n",
    "* <font color=red>n_jobs</font>: int or None, optional (default=None)  \n",
    "要运行的并行作业数量。没有一个意思是1，除非是在工作中。parallel_backend上下文。-1表示使用所有处理器。有关详细信息，请参见Glossary。\n",
    "* <font color=red>U_init</font>: array of shape (n_samples, n_components)  \n",
    "用于热重启场景的加载的初始值。\n",
    "* <font color=red>V_init</font>: array of shape (n_components, n_features)  \n",
    "用于热重启场景的组件的初始值。\n",
    "* <font color=red>verbose</font>: int  \n",
    "控制冗长;信息越多越好。默认值为0。\n",
    "* <font color=red>random_state</font>: int, RandomState instance or None, optional (default=None)  \n",
    "  int：random_state是随机数生成器使用的种子  \n",
    "  RandomState instance：随机状态是随机数发生器  \n",
    "  None：随机数生成器是np.random使用的随机状态实例  \n",
    "* <font color=red>normalize_components</font>: boolean, optional (default=False)  \n",
    "  False：使用稀疏主成分分析的一个版本，没有组件标准化和没有数据中心。这可能是一个bug，即使它是向后兼容的默认设置，也不应该使用它。  \n",
    "  True：使用带有组件标准化和数据中心的稀疏PCA版本。"
   ]
  },
  {
   "cell_type": "code",
   "execution_count": 1,
   "metadata": {},
   "outputs": [
    {
     "data": {
      "text/plain": [
       "0.9666666666666667"
      ]
     },
     "execution_count": 1,
     "metadata": {},
     "output_type": "execute_result"
    }
   ],
   "source": [
    "import numpy as np\n",
    "from sklearn.datasets import make_friedman1\n",
    "from sklearn.decomposition import SparsePCA\n",
    "X, _ = make_friedman1(n_samples=200, n_features=30, random_state=0)\n",
    "transformer = SparsePCA(n_components=5,\n",
    "        normalize_components=True,\n",
    "        random_state=0)\n",
    "transformer.fit(X) \n",
    "\n",
    "X_transformed = transformer.transform(X)\n",
    "X_transformed.shape\n",
    "\n",
    "# most values in the components_ are zero (sparsity)\n",
    "np.mean(transformer.components_ == 0) "
   ]
  },
  {
   "cell_type": "code",
   "execution_count": null,
   "metadata": {},
   "outputs": [],
   "source": []
  }
 ],
 "metadata": {
  "kernelspec": {
   "display_name": "Python 3",
   "language": "python",
   "name": "python3"
  },
  "language_info": {
   "codemirror_mode": {
    "name": "ipython",
    "version": 3
   },
   "file_extension": ".py",
   "mimetype": "text/x-python",
   "name": "python",
   "nbconvert_exporter": "python",
   "pygments_lexer": "ipython3",
   "version": "3.6.5"
  }
 },
 "nbformat": 4,
 "nbformat_minor": 2
}
