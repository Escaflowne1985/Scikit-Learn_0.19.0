{
 "cells": [
  {
   "cell_type": "markdown",
   "metadata": {},
   "source": [
    "# PCA\n",
    "(n_components=None, copy=True, whiten=False, svd_solver='auto', tol=0.0, iterated_power='auto', random_state=None)"
   ]
  },
  {
   "cell_type": "markdown",
   "metadata": {},
   "source": [
    "* <font color=red>n_components</font>: int, float, None or string    \n",
    "  - 需要保留的组件数量。如果没有设置n_components，则保留所有组件:  \n",
    "  n_components == min(n_samples, n_features)  \n",
    "  n_components == 'mle' and svd_solver == 'full', Minka's MLE是用来猜测维数的。  \n",
    "  Use of n_components == 'mle' will interpret svd_solver == 'auto' as svd_solver == 'full'.\n",
    "  If 0 < n_components < 1 and svd_solver == 'full', select the number of components such that the amount of variance that needs to be explained is greater than the percentage specified by n_components.  \n",
    "  If svd_solver == 'arpack', the number of components must be strictly less than the minimum of n_features and n_samples.\n",
    "  Hence, the None case results in:  \n",
    "  n_components == min(n_samples, n_features) - 1  \n",
    "* <font color=red>copy</font>: bool (default True)  \n",
    "False:则会覆盖传递给fit的数据，并且运行fit(X).transform(X)不会产生预期的结果，而是使用fit_transform(X)。\n",
    "* <font color=red>whiten</font>: bool, optional (default False)  \n",
    "当True(默认为False)时，组件向量乘以n_samples的平方根，然后除以奇异值，以确保输出与单元组件相关的方差不相关。  \n",
    "白化将从转换后的信号(各分量的相对方差尺度)中去除一些信息，但有时可以通过使下游估计量的数据尊重某些硬连线假设来提高预测精度。  \n",
    "* <font color=red>svd_solver</font>: string {'auto', 'full', 'arpack', 'randomized'}\n",
    "  - auto :  \n",
    "该解决程序由基于X的默认策略选择。形状和n_components:如果输入数据大于500x500，而要提取的组件数量小于数据最小维度的80%，则启用更有效的“随机”方法。否则，完整的SVD将被计算出来，然后可选地截断。\n",
    "  - full :   \n",
    "通过scipy.linalg调用标准的LAPACK解决程序，运行完全SVD。svd，并通过后处理选择组件\n",
    "  - arpack :  \n",
    "运行截断为n_components的SVD，通过scipy.sparse.linalg.svds调用ARPACK求解器。它严格要求0 < n_components < min(X.shape)\n",
    "  - randomized :  \n",
    "用Halko等方法运行随机SVD。\n",
    "* <font color=red>tol</font>: float >= 0, optional (default .0)   \n",
    "svd_solver == 'arpack'计算的奇异值的公差。\n",
    "* <font color=red>iterated_power</font>: int >= 0, or 'auto', (default 'auto')  \n",
    "由svd_solver == ' random'计算的power方法的迭代次数。\n",
    "* <font color=red>random_state</font>: int, RandomState instance or None, optional (default None)  \n",
    "如果是int, random_state是随机数生成器使用的种子;如果是RandomState实例，random_state是随机数生成器;如果没有，随机数生成器是np.random使用的RandomState实例。用于svd_solver == 'arpack'或' randomze '。"
   ]
  },
  {
   "cell_type": "code",
   "execution_count": 1,
   "metadata": {},
   "outputs": [
    {
     "name": "stdout",
     "output_type": "stream",
     "text": [
      "[0.99244289 0.00755711]\n",
      "[6.30061232 0.54980396]\n"
     ]
    }
   ],
   "source": [
    "import numpy as np\n",
    "from sklearn.decomposition import PCA\n",
    "X = np.array([[-1, -1], [-2, -1], [-3, -2], [1, 1], [2, 1], [3, 2]])\n",
    "pca = PCA(n_components=2)\n",
    "pca.fit(X)\n",
    "print(pca.explained_variance_ratio_)  \n",
    "\n",
    "print(pca.singular_values_)  "
   ]
  },
  {
   "cell_type": "code",
   "execution_count": 2,
   "metadata": {},
   "outputs": [
    {
     "name": "stdout",
     "output_type": "stream",
     "text": [
      "[0.99244289 0.00755711]\n",
      "[6.30061232 0.54980396]\n"
     ]
    }
   ],
   "source": [
    "pca = PCA(n_components=2, svd_solver='full')\n",
    "pca.fit(X)                 \n",
    "print(pca.explained_variance_ratio_)  \n",
    "\n",
    "print(pca.singular_values_)  "
   ]
  },
  {
   "cell_type": "code",
   "execution_count": 3,
   "metadata": {},
   "outputs": [
    {
     "name": "stdout",
     "output_type": "stream",
     "text": [
      "[0.99244289]\n",
      "[6.30061232]\n"
     ]
    }
   ],
   "source": [
    "pca = PCA(n_components=1, svd_solver='arpack')\n",
    "pca.fit(X)\n",
    "print(pca.explained_variance_ratio_)  \n",
    "\n",
    "print(pca.singular_values_)  "
   ]
  },
  {
   "cell_type": "code",
   "execution_count": null,
   "metadata": {},
   "outputs": [],
   "source": []
  }
 ],
 "metadata": {
  "kernelspec": {
   "display_name": "Python 3",
   "language": "python",
   "name": "python3"
  },
  "language_info": {
   "codemirror_mode": {
    "name": "ipython",
    "version": 3
   },
   "file_extension": ".py",
   "mimetype": "text/x-python",
   "name": "python",
   "nbconvert_exporter": "python",
   "pygments_lexer": "ipython3",
   "version": "3.6.5"
  }
 },
 "nbformat": 4,
 "nbformat_minor": 2
}
