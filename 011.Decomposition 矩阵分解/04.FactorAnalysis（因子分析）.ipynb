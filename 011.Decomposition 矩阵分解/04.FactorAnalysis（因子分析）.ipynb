{
 "cells": [
  {
   "cell_type": "markdown",
   "metadata": {},
   "source": [
    "# FactorAnalysis\n",
    "(n_components=None, tol=0.01, copy=True, max_iter=1000, noise_variance_init=None, svd_method=’randomized’, iterated_power=3, random_state=0)"
   ]
  },
  {
   "cell_type": "markdown",
   "metadata": {},
   "source": [
    "* <font color=red>n_components</font>: int | None  \n",
    "Dimensionality of latent space, the number of components of X that are obtained after transform. If None, n_components is set to the number of features.\n",
    "* <font color=red>tol</font>: float  \n",
    "Stopping tolerance for EM algorithm.\n",
    "* <font color=red>copy</font>: bool  \n",
    "Whether to make a copy of X. If False, the input X gets overwritten during fitting.\n",
    "* <font color=red>max_iter</font>: int  \n",
    "Maximum number of iterations.\n",
    "* <font color=red>noise_variance_init</font>: None | array, shape=(n_features,)  \n",
    "The initial guess of the noise variance for each feature. If None, it defaults to np.ones(n_features)\n",
    "* <font color=red>svd_method</font>: {‘lapack’, ‘randomized’}  \n",
    "Which SVD method to use. If ‘lapack’ use standard SVD from scipy.linalg, if ‘randomized’ use fast randomized_svd function. Defaults to ‘randomized’. For most applications ‘randomized’ will be sufficiently precise while providing significant speed gains. Accuracy can also be improved by setting higher values for iterated_power. If this is not sufficient, for maximum precision you should choose ‘lapack’.\n",
    "* <font color=red>iterated_power</font>: int, optional  \n",
    "Number of iterations for the power method. 3 by default. Only used if svd_method equals ‘randomized’\n",
    "* <font color=red>random_state</font>: int, RandomState instance or None, optional (default=0)  \n",
    "If int, random_state is the seed used by the random number generator; If RandomState instance, random_state is the random number generator; If None, the random number generator is the RandomState instance used by np.random. Only used when svd_method equals ‘randomized’."
   ]
  },
  {
   "cell_type": "code",
   "execution_count": 2,
   "metadata": {},
   "outputs": [
    {
     "data": {
      "text/plain": [
       "(1797, 7)"
      ]
     },
     "execution_count": 2,
     "metadata": {},
     "output_type": "execute_result"
    }
   ],
   "source": [
    "from sklearn.datasets import load_digits\n",
    "from sklearn.decomposition import FactorAnalysis\n",
    "X, _ = load_digits(return_X_y=True)\n",
    "transformer = FactorAnalysis(n_components=7, random_state=0)\n",
    "X_transformed = transformer.fit_transform(X)\n",
    "X_transformed.shape"
   ]
  },
  {
   "cell_type": "code",
   "execution_count": null,
   "metadata": {},
   "outputs": [],
   "source": []
  }
 ],
 "metadata": {
  "kernelspec": {
   "display_name": "Python 3",
   "language": "python",
   "name": "python3"
  },
  "language_info": {
   "codemirror_mode": {
    "name": "ipython",
    "version": 3
   },
   "file_extension": ".py",
   "mimetype": "text/x-python",
   "name": "python",
   "nbconvert_exporter": "python",
   "pygments_lexer": "ipython3",
   "version": "3.6.5"
  }
 },
 "nbformat": 4,
 "nbformat_minor": 2
}
