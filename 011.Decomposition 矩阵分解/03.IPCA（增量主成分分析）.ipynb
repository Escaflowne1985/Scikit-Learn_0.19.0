{
 "cells": [
  {
   "cell_type": "markdown",
   "metadata": {},
   "source": [
    "# IncrementalPCA\n",
    "(n_components=None, whiten=False, copy=True, batch_size=None)"
   ]
  },
  {
   "cell_type": "markdown",
   "metadata": {},
   "source": [
    "* <font color=red>n_components</font>: int or None, (default=None)  \n",
    "Number of components to keep. If n_components  is  None, then n_components is set to min(n_samples, n_features).\n",
    "* <font color=red>whiten</font>: bool, optional  \n",
    "When True (False by default) the components_ vectors are divided by n_samples times components_ to ensure uncorrelated outputs with unit component-wise variances.\n",
    "Whitening will remove some information from the transformed signal (the relative variance scales of the components) but can sometimes improve the predictive accuracy of the downstream estimators by making data respect some hard-wired assumptions.\n",
    "* <font color=red>copy</font>: bool, (default=True)  \n",
    "If False, X will be overwritten. copy=False can be used to save memory but is unsafe for general use.\n",
    "* <font color=red>batch_size</font>: int or None, (default=None)  \n",
    "The number of samples to use for each batch. Only used when calling fit. If batch_size is None, then batch_size is inferred from the data and set to 5 * n_features, to provide a balance between approximation accuracy and memory consumption."
   ]
  },
  {
   "cell_type": "code",
   "execution_count": 1,
   "metadata": {},
   "outputs": [
    {
     "data": {
      "text/plain": [
       "(1797, 7)"
      ]
     },
     "execution_count": 1,
     "metadata": {},
     "output_type": "execute_result"
    }
   ],
   "source": [
    "from sklearn.datasets import load_digits\n",
    "from sklearn.decomposition import IncrementalPCA\n",
    "X, _ = load_digits(return_X_y=True)\n",
    "transformer = IncrementalPCA(n_components=7, batch_size=200)\n",
    "# either partially fit on smaller batches of data\n",
    "transformer.partial_fit(X[:100, :])\n",
    "\n",
    "# or let the fit function itself divide the data into batches\n",
    "X_transformed = transformer.fit_transform(X)\n",
    "X_transformed.shape"
   ]
  },
  {
   "cell_type": "code",
   "execution_count": null,
   "metadata": {},
   "outputs": [],
   "source": []
  }
 ],
 "metadata": {
  "kernelspec": {
   "display_name": "Python 3",
   "language": "python",
   "name": "python3"
  },
  "language_info": {
   "codemirror_mode": {
    "name": "ipython",
    "version": 3
   },
   "file_extension": ".py",
   "mimetype": "text/x-python",
   "name": "python",
   "nbconvert_exporter": "python",
   "pygments_lexer": "ipython3",
   "version": "3.6.5"
  }
 },
 "nbformat": 4,
 "nbformat_minor": 2
}
