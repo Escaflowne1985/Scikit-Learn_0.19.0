{
 "cells": [
  {
   "cell_type": "markdown",
   "metadata": {},
   "source": [
    "# 例1"
   ]
  },
  {
   "cell_type": "code",
   "execution_count": 1,
   "metadata": {},
   "outputs": [],
   "source": [
    "from itertools import combinations\n",
    "from copy import deepcopy\n",
    "import pandas as pd"
   ]
  },
  {
   "cell_type": "code",
   "execution_count": 2,
   "metadata": {},
   "outputs": [],
   "source": [
    "# 导入数据，并剔除支持度计数小于min_support的1项集\n",
    "def load_data(data):\n",
    "    I_dict = {}\n",
    "    for i in data:\n",
    "        for j in i:\n",
    "            I_dict[j] = I_dict.get(j, 0) + 1\n",
    "    F_dict = deepcopy(I_dict)\n",
    "    for k in I_dict.keys():\n",
    "        if F_dict.get(k) < min_support:\n",
    "            del F_dict[k]\n",
    "    return F_dict"
   ]
  },
  {
   "cell_type": "code",
   "execution_count": 3,
   "metadata": {},
   "outputs": [],
   "source": [
    "# 判断频繁项集是否大于min_support\n",
    "def get_support_set(p_set):\n",
    "    item_supp_set = []\n",
    "    for item in p_set:\n",
    "        count = 0\n",
    "        for ds in data_set:\n",
    "            if item.issubset(ds):\n",
    "                count += 1\n",
    "        if count >= min_support:\n",
    "            item_supp_set.append([item, count])\n",
    "    return item_supp_set"
   ]
  },
  {
   "cell_type": "code",
   "execution_count": 4,
   "metadata": {},
   "outputs": [],
   "source": [
    "# 找出所有频繁项集\n",
    "# 以二项集为初始集\n",
    "def get_all_items(two_set, k=3):\n",
    "    all_frequent = []\n",
    "    flag = True\n",
    "    while flag:\n",
    "        mid_set = []\n",
    "        temp = []\n",
    "        t_ = [ks[0] for ks in two_set]\n",
    "        for kk in t_:\n",
    "            for tt in kk:\n",
    "                if tt not in temp:\n",
    "                    temp.append(tt)\n",
    "        k_ = [set(t) for t in combinations(temp, k)]\n",
    "        for ff in k_:\n",
    "            count_k = 0\n",
    "            for d in t_:\n",
    "                if ff.issuperset(d):\n",
    "                    count_k += 1\n",
    "            if count_k == k:\n",
    "                mid_set.append(ff)\n",
    "        frequent_mid_set = get_support_set(mid_set)\n",
    "        if mid_set:\n",
    "            k += 1\n",
    "            two_set = frequent_mid_set\n",
    "            all_frequent.extend(frequent_mid_set)\n",
    "        else:\n",
    "            flag = False\n",
    "    return all_frequent"
   ]
  },
  {
   "cell_type": "code",
   "execution_count": 5,
   "metadata": {
    "scrolled": true
   },
   "outputs": [
    {
     "name": "stdout",
     "output_type": "stream",
     "text": [
      "[{'I1'}, 6]\n",
      "[{'I2'}, 7]\n",
      "[{'I3'}, 6]\n",
      "[{'I2', 'I1'}, 4]\n",
      "[{'I1', 'I3'}, 4]\n",
      "[{'I2', 'I3'}, 4]\n"
     ]
    }
   ],
   "source": [
    "data = [['I1', 'I2', 'I5'], ['I2', 'I4'], ['I2', 'I3'], ['I1', 'I2', 'I4'], ['I1', 'I3'],\n",
    "        ['I2', 'I3'], ['I1', 'I3'], ['I1', 'I2', 'I3', 'I5'], ['I1', 'I2', 'I3']]\n",
    "#data=[['规划','承办','出席会议','推进','主任','产业','党委书记','供需'],['推进','主任','产业','党委书记','供需','走势']]\n",
    "\n",
    "data_set = [set(d) for d in data]\n",
    "min_support =3\n",
    "one = [[{lk}, lv] for lk, lv in load_data(data).items()]\n",
    "two = [set(t) for t in combinations(list(load_data(data).keys()), 2)]\n",
    "two_set = get_support_set(two)\n",
    "all_frequent_set = one + two_set + get_all_items(two_set)\n",
    "for afs in all_frequent_set:\n",
    "    print(afs)"
   ]
  },
  {
   "cell_type": "markdown",
   "metadata": {},
   "source": [
    "# 例2"
   ]
  },
  {
   "cell_type": "code",
   "execution_count": 6,
   "metadata": {},
   "outputs": [],
   "source": [
    "from apyori import *\n",
    "\n",
    "data = [['豆奶','莴苣'],\n",
    "        ['莴苣','尿布','葡萄酒','甜菜'],\n",
    "        ['豆奶','尿布','葡萄酒','橙汁'],\n",
    "        ['莴苣','豆奶','尿布','葡萄酒'],\n",
    "        ['莴苣','豆奶','尿布','橙汁']]\n",
    "\n",
    "result = list(apriori(transactions=data))\n",
    "\n",
    "# # apriori其他参数说明:\n",
    "# min_support -- The minimum support of relations (float).最小支持度，可用来筛选项集\n",
    "# min_confidence -- The minimum confidence of relations (float).最小可信度，可用来筛选项集\n",
    "# min_lift -- The minimum lift of relations (float).未知\n",
    "# max_length -- The maximum length of the relation (integer).未知"
   ]
  },
  {
   "cell_type": "code",
   "execution_count": 7,
   "metadata": {},
   "outputs": [
    {
     "data": {
      "text/plain": [
       "[RelationRecord(items=frozenset({'尿布'}), support=0.8, ordered_statistics=[OrderedStatistic(items_base=frozenset(), items_add=frozenset({'尿布'}), confidence=0.8, lift=1.0)]),\n",
       " RelationRecord(items=frozenset({'橙汁'}), support=0.4, ordered_statistics=[OrderedStatistic(items_base=frozenset(), items_add=frozenset({'橙汁'}), confidence=0.4, lift=1.0)]),\n",
       " RelationRecord(items=frozenset({'甜菜'}), support=0.2, ordered_statistics=[OrderedStatistic(items_base=frozenset(), items_add=frozenset({'甜菜'}), confidence=0.2, lift=1.0)]),\n",
       " RelationRecord(items=frozenset({'莴苣'}), support=0.8, ordered_statistics=[OrderedStatistic(items_base=frozenset(), items_add=frozenset({'莴苣'}), confidence=0.8, lift=1.0)]),\n",
       " RelationRecord(items=frozenset({'葡萄酒'}), support=0.6, ordered_statistics=[OrderedStatistic(items_base=frozenset(), items_add=frozenset({'葡萄酒'}), confidence=0.6, lift=1.0)]),\n",
       " RelationRecord(items=frozenset({'豆奶'}), support=0.8, ordered_statistics=[OrderedStatistic(items_base=frozenset(), items_add=frozenset({'豆奶'}), confidence=0.8, lift=1.0)]),\n",
       " RelationRecord(items=frozenset({'橙汁', '尿布'}), support=0.4, ordered_statistics=[OrderedStatistic(items_base=frozenset({'尿布'}), items_add=frozenset({'橙汁'}), confidence=0.5, lift=1.25), OrderedStatistic(items_base=frozenset({'橙汁'}), items_add=frozenset({'尿布'}), confidence=1.0, lift=1.25)]),\n",
       " RelationRecord(items=frozenset({'甜菜', '尿布'}), support=0.2, ordered_statistics=[OrderedStatistic(items_base=frozenset({'尿布'}), items_add=frozenset({'甜菜'}), confidence=0.25, lift=1.25), OrderedStatistic(items_base=frozenset({'甜菜'}), items_add=frozenset({'尿布'}), confidence=1.0, lift=1.25)]),\n",
       " RelationRecord(items=frozenset({'尿布', '莴苣'}), support=0.6, ordered_statistics=[OrderedStatistic(items_base=frozenset({'尿布'}), items_add=frozenset({'莴苣'}), confidence=0.7499999999999999, lift=0.9374999999999998), OrderedStatistic(items_base=frozenset({'莴苣'}), items_add=frozenset({'尿布'}), confidence=0.7499999999999999, lift=0.9374999999999998)]),\n",
       " RelationRecord(items=frozenset({'尿布', '葡萄酒'}), support=0.6, ordered_statistics=[OrderedStatistic(items_base=frozenset({'尿布'}), items_add=frozenset({'葡萄酒'}), confidence=0.7499999999999999, lift=1.2499999999999998), OrderedStatistic(items_base=frozenset({'葡萄酒'}), items_add=frozenset({'尿布'}), confidence=1.0, lift=1.25)]),\n",
       " RelationRecord(items=frozenset({'豆奶', '尿布'}), support=0.6, ordered_statistics=[OrderedStatistic(items_base=frozenset({'尿布'}), items_add=frozenset({'豆奶'}), confidence=0.7499999999999999, lift=0.9374999999999998), OrderedStatistic(items_base=frozenset({'豆奶'}), items_add=frozenset({'尿布'}), confidence=0.7499999999999999, lift=0.9374999999999998)]),\n",
       " RelationRecord(items=frozenset({'橙汁', '莴苣'}), support=0.2, ordered_statistics=[OrderedStatistic(items_base=frozenset({'橙汁'}), items_add=frozenset({'莴苣'}), confidence=0.5, lift=0.625), OrderedStatistic(items_base=frozenset({'莴苣'}), items_add=frozenset({'橙汁'}), confidence=0.25, lift=0.625)]),\n",
       " RelationRecord(items=frozenset({'橙汁', '葡萄酒'}), support=0.2, ordered_statistics=[OrderedStatistic(items_base=frozenset({'橙汁'}), items_add=frozenset({'葡萄酒'}), confidence=0.5, lift=0.8333333333333334), OrderedStatistic(items_base=frozenset({'葡萄酒'}), items_add=frozenset({'橙汁'}), confidence=0.33333333333333337, lift=0.8333333333333334)]),\n",
       " RelationRecord(items=frozenset({'橙汁', '豆奶'}), support=0.4, ordered_statistics=[OrderedStatistic(items_base=frozenset({'橙汁'}), items_add=frozenset({'豆奶'}), confidence=1.0, lift=1.25), OrderedStatistic(items_base=frozenset({'豆奶'}), items_add=frozenset({'橙汁'}), confidence=0.5, lift=1.25)]),\n",
       " RelationRecord(items=frozenset({'甜菜', '莴苣'}), support=0.2, ordered_statistics=[OrderedStatistic(items_base=frozenset({'甜菜'}), items_add=frozenset({'莴苣'}), confidence=1.0, lift=1.25), OrderedStatistic(items_base=frozenset({'莴苣'}), items_add=frozenset({'甜菜'}), confidence=0.25, lift=1.25)]),\n",
       " RelationRecord(items=frozenset({'甜菜', '葡萄酒'}), support=0.2, ordered_statistics=[OrderedStatistic(items_base=frozenset({'甜菜'}), items_add=frozenset({'葡萄酒'}), confidence=1.0, lift=1.6666666666666667), OrderedStatistic(items_base=frozenset({'葡萄酒'}), items_add=frozenset({'甜菜'}), confidence=0.33333333333333337, lift=1.6666666666666667)]),\n",
       " RelationRecord(items=frozenset({'莴苣', '葡萄酒'}), support=0.4, ordered_statistics=[OrderedStatistic(items_base=frozenset({'莴苣'}), items_add=frozenset({'葡萄酒'}), confidence=0.5, lift=0.8333333333333334), OrderedStatistic(items_base=frozenset({'葡萄酒'}), items_add=frozenset({'莴苣'}), confidence=0.6666666666666667, lift=0.8333333333333334)]),\n",
       " RelationRecord(items=frozenset({'豆奶', '莴苣'}), support=0.6, ordered_statistics=[OrderedStatistic(items_base=frozenset({'莴苣'}), items_add=frozenset({'豆奶'}), confidence=0.7499999999999999, lift=0.9374999999999998), OrderedStatistic(items_base=frozenset({'豆奶'}), items_add=frozenset({'莴苣'}), confidence=0.7499999999999999, lift=0.9374999999999998)]),\n",
       " RelationRecord(items=frozenset({'豆奶', '葡萄酒'}), support=0.4, ordered_statistics=[OrderedStatistic(items_base=frozenset({'葡萄酒'}), items_add=frozenset({'豆奶'}), confidence=0.6666666666666667, lift=0.8333333333333334), OrderedStatistic(items_base=frozenset({'豆奶'}), items_add=frozenset({'葡萄酒'}), confidence=0.5, lift=0.8333333333333334)]),\n",
       " RelationRecord(items=frozenset({'橙汁', '尿布', '莴苣'}), support=0.2, ordered_statistics=[OrderedStatistic(items_base=frozenset({'橙汁', '尿布'}), items_add=frozenset({'莴苣'}), confidence=0.5, lift=0.625), OrderedStatistic(items_base=frozenset({'尿布', '莴苣'}), items_add=frozenset({'橙汁'}), confidence=0.33333333333333337, lift=0.8333333333333334), OrderedStatistic(items_base=frozenset({'橙汁', '莴苣'}), items_add=frozenset({'尿布'}), confidence=1.0, lift=1.25)]),\n",
       " RelationRecord(items=frozenset({'橙汁', '尿布', '葡萄酒'}), support=0.2, ordered_statistics=[OrderedStatistic(items_base=frozenset({'橙汁', '尿布'}), items_add=frozenset({'葡萄酒'}), confidence=0.5, lift=0.8333333333333334), OrderedStatistic(items_base=frozenset({'尿布', '葡萄酒'}), items_add=frozenset({'橙汁'}), confidence=0.33333333333333337, lift=0.8333333333333334), OrderedStatistic(items_base=frozenset({'橙汁', '葡萄酒'}), items_add=frozenset({'尿布'}), confidence=1.0, lift=1.25)]),\n",
       " RelationRecord(items=frozenset({'橙汁', '豆奶', '尿布'}), support=0.4, ordered_statistics=[OrderedStatistic(items_base=frozenset({'橙汁', '尿布'}), items_add=frozenset({'豆奶'}), confidence=1.0, lift=1.25), OrderedStatistic(items_base=frozenset({'豆奶', '尿布'}), items_add=frozenset({'橙汁'}), confidence=0.6666666666666667, lift=1.6666666666666667), OrderedStatistic(items_base=frozenset({'橙汁', '豆奶'}), items_add=frozenset({'尿布'}), confidence=1.0, lift=1.25)]),\n",
       " RelationRecord(items=frozenset({'甜菜', '尿布', '莴苣'}), support=0.2, ordered_statistics=[OrderedStatistic(items_base=frozenset({'甜菜', '尿布'}), items_add=frozenset({'莴苣'}), confidence=1.0, lift=1.25), OrderedStatistic(items_base=frozenset({'尿布', '莴苣'}), items_add=frozenset({'甜菜'}), confidence=0.33333333333333337, lift=1.6666666666666667), OrderedStatistic(items_base=frozenset({'甜菜', '莴苣'}), items_add=frozenset({'尿布'}), confidence=1.0, lift=1.25)]),\n",
       " RelationRecord(items=frozenset({'甜菜', '尿布', '葡萄酒'}), support=0.2, ordered_statistics=[OrderedStatistic(items_base=frozenset({'甜菜', '尿布'}), items_add=frozenset({'葡萄酒'}), confidence=1.0, lift=1.6666666666666667), OrderedStatistic(items_base=frozenset({'尿布', '葡萄酒'}), items_add=frozenset({'甜菜'}), confidence=0.33333333333333337, lift=1.6666666666666667), OrderedStatistic(items_base=frozenset({'甜菜', '葡萄酒'}), items_add=frozenset({'尿布'}), confidence=1.0, lift=1.25)]),\n",
       " RelationRecord(items=frozenset({'尿布', '莴苣', '葡萄酒'}), support=0.4, ordered_statistics=[OrderedStatistic(items_base=frozenset({'尿布', '莴苣'}), items_add=frozenset({'葡萄酒'}), confidence=0.6666666666666667, lift=1.1111111111111114), OrderedStatistic(items_base=frozenset({'尿布', '葡萄酒'}), items_add=frozenset({'莴苣'}), confidence=0.6666666666666667, lift=0.8333333333333334), OrderedStatistic(items_base=frozenset({'莴苣', '葡萄酒'}), items_add=frozenset({'尿布'}), confidence=1.0, lift=1.25)]),\n",
       " RelationRecord(items=frozenset({'豆奶', '尿布', '莴苣'}), support=0.4, ordered_statistics=[OrderedStatistic(items_base=frozenset({'尿布', '莴苣'}), items_add=frozenset({'豆奶'}), confidence=0.6666666666666667, lift=0.8333333333333334), OrderedStatistic(items_base=frozenset({'豆奶', '尿布'}), items_add=frozenset({'莴苣'}), confidence=0.6666666666666667, lift=0.8333333333333334), OrderedStatistic(items_base=frozenset({'豆奶', '莴苣'}), items_add=frozenset({'尿布'}), confidence=0.6666666666666667, lift=0.8333333333333334)]),\n",
       " RelationRecord(items=frozenset({'豆奶', '尿布', '葡萄酒'}), support=0.4, ordered_statistics=[OrderedStatistic(items_base=frozenset({'尿布', '葡萄酒'}), items_add=frozenset({'豆奶'}), confidence=0.6666666666666667, lift=0.8333333333333334), OrderedStatistic(items_base=frozenset({'豆奶', '尿布'}), items_add=frozenset({'葡萄酒'}), confidence=0.6666666666666667, lift=1.1111111111111114), OrderedStatistic(items_base=frozenset({'豆奶', '葡萄酒'}), items_add=frozenset({'尿布'}), confidence=1.0, lift=1.25)]),\n",
       " RelationRecord(items=frozenset({'橙汁', '豆奶', '莴苣'}), support=0.2, ordered_statistics=[OrderedStatistic(items_base=frozenset({'橙汁', '莴苣'}), items_add=frozenset({'豆奶'}), confidence=1.0, lift=1.25), OrderedStatistic(items_base=frozenset({'橙汁', '豆奶'}), items_add=frozenset({'莴苣'}), confidence=0.5, lift=0.625), OrderedStatistic(items_base=frozenset({'豆奶', '莴苣'}), items_add=frozenset({'橙汁'}), confidence=0.33333333333333337, lift=0.8333333333333334)]),\n",
       " RelationRecord(items=frozenset({'橙汁', '豆奶', '葡萄酒'}), support=0.2, ordered_statistics=[OrderedStatistic(items_base=frozenset({'橙汁', '葡萄酒'}), items_add=frozenset({'豆奶'}), confidence=1.0, lift=1.25), OrderedStatistic(items_base=frozenset({'橙汁', '豆奶'}), items_add=frozenset({'葡萄酒'}), confidence=0.5, lift=0.8333333333333334), OrderedStatistic(items_base=frozenset({'豆奶', '葡萄酒'}), items_add=frozenset({'橙汁'}), confidence=0.5, lift=1.25)]),\n",
       " RelationRecord(items=frozenset({'甜菜', '莴苣', '葡萄酒'}), support=0.2, ordered_statistics=[OrderedStatistic(items_base=frozenset({'甜菜', '莴苣'}), items_add=frozenset({'葡萄酒'}), confidence=1.0, lift=1.6666666666666667), OrderedStatistic(items_base=frozenset({'甜菜', '葡萄酒'}), items_add=frozenset({'莴苣'}), confidence=1.0, lift=1.25), OrderedStatistic(items_base=frozenset({'莴苣', '葡萄酒'}), items_add=frozenset({'甜菜'}), confidence=0.5, lift=2.5)]),\n",
       " RelationRecord(items=frozenset({'豆奶', '莴苣', '葡萄酒'}), support=0.2, ordered_statistics=[OrderedStatistic(items_base=frozenset({'莴苣', '葡萄酒'}), items_add=frozenset({'豆奶'}), confidence=0.5, lift=0.625), OrderedStatistic(items_base=frozenset({'豆奶', '莴苣'}), items_add=frozenset({'葡萄酒'}), confidence=0.33333333333333337, lift=0.5555555555555557), OrderedStatistic(items_base=frozenset({'豆奶', '葡萄酒'}), items_add=frozenset({'莴苣'}), confidence=0.5, lift=0.625)]),\n",
       " RelationRecord(items=frozenset({'橙汁', '豆奶', '尿布', '莴苣'}), support=0.2, ordered_statistics=[OrderedStatistic(items_base=frozenset({'橙汁', '尿布', '莴苣'}), items_add=frozenset({'豆奶'}), confidence=1.0, lift=1.25), OrderedStatistic(items_base=frozenset({'橙汁', '豆奶', '尿布'}), items_add=frozenset({'莴苣'}), confidence=0.5, lift=0.625), OrderedStatistic(items_base=frozenset({'豆奶', '尿布', '莴苣'}), items_add=frozenset({'橙汁'}), confidence=0.5, lift=1.25), OrderedStatistic(items_base=frozenset({'橙汁', '豆奶', '莴苣'}), items_add=frozenset({'尿布'}), confidence=1.0, lift=1.25)]),\n",
       " RelationRecord(items=frozenset({'橙汁', '豆奶', '尿布', '葡萄酒'}), support=0.2, ordered_statistics=[OrderedStatistic(items_base=frozenset({'橙汁', '尿布', '葡萄酒'}), items_add=frozenset({'豆奶'}), confidence=1.0, lift=1.25), OrderedStatistic(items_base=frozenset({'橙汁', '豆奶', '尿布'}), items_add=frozenset({'葡萄酒'}), confidence=0.5, lift=0.8333333333333334), OrderedStatistic(items_base=frozenset({'豆奶', '尿布', '葡萄酒'}), items_add=frozenset({'橙汁'}), confidence=0.5, lift=1.25), OrderedStatistic(items_base=frozenset({'橙汁', '豆奶', '葡萄酒'}), items_add=frozenset({'尿布'}), confidence=1.0, lift=1.25)]),\n",
       " RelationRecord(items=frozenset({'甜菜', '尿布', '莴苣', '葡萄酒'}), support=0.2, ordered_statistics=[OrderedStatistic(items_base=frozenset({'甜菜', '尿布', '莴苣'}), items_add=frozenset({'葡萄酒'}), confidence=1.0, lift=1.6666666666666667), OrderedStatistic(items_base=frozenset({'甜菜', '尿布', '葡萄酒'}), items_add=frozenset({'莴苣'}), confidence=1.0, lift=1.25), OrderedStatistic(items_base=frozenset({'尿布', '莴苣', '葡萄酒'}), items_add=frozenset({'甜菜'}), confidence=0.5, lift=2.5), OrderedStatistic(items_base=frozenset({'甜菜', '莴苣', '葡萄酒'}), items_add=frozenset({'尿布'}), confidence=1.0, lift=1.25)]),\n",
       " RelationRecord(items=frozenset({'豆奶', '尿布', '莴苣', '葡萄酒'}), support=0.2, ordered_statistics=[OrderedStatistic(items_base=frozenset({'尿布', '莴苣', '葡萄酒'}), items_add=frozenset({'豆奶'}), confidence=0.5, lift=0.625), OrderedStatistic(items_base=frozenset({'豆奶', '尿布', '莴苣'}), items_add=frozenset({'葡萄酒'}), confidence=0.5, lift=0.8333333333333334), OrderedStatistic(items_base=frozenset({'豆奶', '尿布', '葡萄酒'}), items_add=frozenset({'莴苣'}), confidence=0.5, lift=0.625), OrderedStatistic(items_base=frozenset({'豆奶', '莴苣', '葡萄酒'}), items_add=frozenset({'尿布'}), confidence=1.0, lift=1.25)])]"
      ]
     },
     "execution_count": 7,
     "metadata": {},
     "output_type": "execute_result"
    }
   ],
   "source": [
    "result"
   ]
  },
  {
   "cell_type": "code",
   "execution_count": null,
   "metadata": {},
   "outputs": [],
   "source": []
  }
 ],
 "metadata": {
  "anaconda-cloud": {},
  "kernelspec": {
   "display_name": "Python 3",
   "language": "python",
   "name": "python3"
  },
  "language_info": {
   "codemirror_mode": {
    "name": "ipython",
    "version": 3
   },
   "file_extension": ".py",
   "mimetype": "text/x-python",
   "name": "python",
   "nbconvert_exporter": "python",
   "pygments_lexer": "ipython3",
   "version": "3.6.5"
  }
 },
 "nbformat": 4,
 "nbformat_minor": 2
}
