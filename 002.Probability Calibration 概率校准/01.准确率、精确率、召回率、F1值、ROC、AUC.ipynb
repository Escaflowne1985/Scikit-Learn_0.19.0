{
 "cells": [
  {
   "cell_type": "markdown",
   "metadata": {},
   "source": [
    "|<font face=\"黑体\" size=5 color=LightSlateGray>混淆矩阵</font>|<font color=DodgerBlue size=5>相关（Relevant），正类</font>|<font color=DodgerBlue size=5>无关（NonRelevant），负类</font>|\n",
    "|:-:|:-:|:-:|\n",
    "|<font color=DodgerBlue size=5>被检索到</font>|<font size=4>True Positives（TP，正类判定为正类）</font>|<font size=4>False Positives（FP，负类判定为正类，即“存伪”）</font>|\n",
    "|<font color=DodgerBlue size=5>未被检索到</font>|<font size=4>False Negatives（FN，正类判定为负类，即“去真”）</font>|<font size=4>True Negatives（TN，负类判定为负类）</font>| "
   ]
  },
  {
   "cell_type": "markdown",
   "metadata": {},
   "source": [
    "<center>准确率（Accuracy）。即所有的预测正确（正类负类）的占总的比重。</center><br/>\n",
    "$$Accuracy = \\frac{(TP + TN )}{(TP + FP + FN + TN)}$$"
   ]
  },
  {
   "cell_type": "markdown",
   "metadata": {},
   "source": [
    "$$ P(A \\mid B) = \\frac{P(B \\mid A) , P(A)}{P(B)} $$"
   ]
  },
  {
   "cell_type": "markdown",
   "metadata": {},
   "source": [
    "<center>精确率（Precision），查准率。即正确预测为正的占全部预测为正的比例。</center><br/>\n",
    "$$Precision =\\frac {TP}{(TP +FP)}$$"
   ]
  },
  {
   "cell_type": "markdown",
   "metadata": {},
   "source": [
    "<center>召回率（Recall），查全率。即正确预测为正的占全部实际为正的比例。</center><br/>\n",
    "$$Recall = \\frac{TP}{(TP + FN)}$$"
   ]
  },
  {
   "cell_type": "markdown",
   "metadata": {},
   "source": [
    "<left>F1 算数平均数除以几何平均数，且越大越好.将Precision和Recall的上述公式带入会发现，当F1值小时，True Positive相对增加，而false相对减少，即Precision和Recall都相对增加，即F1对Precision和Recall都进行了加权。</left><br/><br/>\n",
    "$$\\frac{2}{F1} = \\frac{1}{Precision}+ \\frac{1}{Recall}$$<br/>\n",
    "$$ = \\frac{2TP}{2TP + FP +FN}$$"
   ]
  },
  {
   "cell_type": "markdown",
   "metadata": {},
   "source": [
    "* ROC曲线、AUC值\n",
    "* 横坐标：1-Specificity，预测为正但实际为负的样本占所有负例样本的比例；\n",
    "* 伪正类率(False positive rate，FPR)\n",
    "$$FPR = \\frac {FP}{(FP+TN)}$$\n",
    "* 纵坐标：Sensitivity，预测为正且实际为正的样本占所有正例样本的比例。\n",
    "* 真正类率(True positive rate，TPR)\n",
    "$$TPR = \\frac {TP}{(TP+FN)}$$"
   ]
  },
  {
   "cell_type": "markdown",
   "metadata": {},
   "source": [
    "* 从AUC判断分类器（预测模型）优劣的标准：\n",
    "\n",
    "* AUC = 1，是完美分类器，采用这个预测模型时，存在至少一个阈值能得出完美预测。绝大多数预测的场合，不存在完美分类器。\n",
    "* 0.5 < AUC < 1，优于随机猜测。这个分类器（模型）妥善设定阈值的话，能有预测价值。\n",
    "* AUC = 0.5，跟随机猜测一样（例：丢铜板），模型没有预测价值。\n",
    "* AUC < 0.5，比随机猜测还差；但只要总是反预测而行，就优于随机猜测。\n",
    "* 一句话来说，AUC值越大的分类器，正确率越高。"
   ]
  },
  {
   "cell_type": "code",
   "execution_count": null,
   "metadata": {},
   "outputs": [],
   "source": []
  }
 ],
 "metadata": {
  "kernelspec": {
   "display_name": "Python 3",
   "language": "python",
   "name": "python3"
  },
  "language_info": {
   "codemirror_mode": {
    "name": "ipython",
    "version": 3
   },
   "file_extension": ".py",
   "mimetype": "text/x-python",
   "name": "python",
   "nbconvert_exporter": "python",
   "pygments_lexer": "ipython3",
   "version": "3.6.5"
  }
 },
 "nbformat": 4,
 "nbformat_minor": 2
}
