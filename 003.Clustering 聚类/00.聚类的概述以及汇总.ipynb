{
 "cells": [
  {
   "cell_type": "markdown",
   "metadata": {},
   "source": [
    "# 在 scikit-learn 中的 clustering algorithms   \n",
    "# （聚类算法）的比较"
   ]
  },
  {
   "cell_type": "markdown",
   "metadata": {},
   "source": [
    "#### 聚类的概念：（复制于百度百科）  \n",
    "&emsp;&emsp;将物理或抽象对象的集合分成由类似的对象组成的多个类的过程被称为聚类。由聚类所生成的簇是一组数据对象的集合，这些对象与同一个簇中的对象彼此相似，与其他簇中的对象相异。“物以类聚，人以群分”，在自然科学和社会科学中，存在着大量的分类问题。聚类分析又称群分析，它是研究（样品或指标）分类问题的一种统计分析方法。聚类分析起源于分类学，但是聚类不等于分类。聚类与分类的不同在于，聚类所要求划分的类是未知的。聚类分析内容非常丰富，有系统聚类法、有序样品聚类法、动态聚类法、模糊聚类法、图论聚类法、聚类预报法等。"
   ]
  },
  {
   "cell_type": "markdown",
   "metadata": {},
   "source": [
    "#### 聚类和分类的区别：  \n",
    "|<font face=\"黑体\" size=4 color=LightSlateGray>Method Comparison</font>|<font color=DodgerBlue size=4>Clustering（聚类）</font>|<font color=DodgerBlue size=4>Classifying（分类）</font>|\n",
    "|:-:|:-:|:-:|\n",
    "|<font face=\"黑体\" size=4 color=DodgerBlue>学习方式</font>|<font face=\"黑体\" size=4>无监督学习</font>|<font face=\"黑体\" size=4>有监督学习</font>|\n",
    "|<font face=\"黑体\" size=4 color=DodgerBlue>训练数据要求</font>|<font face=\"黑体\" size=4>无需高度重视</font>|<font face=\"黑体\" size=4>高度重视</font>|\n",
    "|<font face=\"黑体\" size=4 color=DodgerBlue>数据标签</font>|<font face=\"黑体\" size=4>数据可无标签</font>|<font face=\"黑体\" size=4>训练数据必须含标签，测试数据可无标签</font>|\n",
    "|<font face=\"黑体\" size=4 color=DodgerBlue>目标</font>|<font face=\"黑体\" size=4>寻找数据相似性</font>|<font face=\"黑体\" size=4>明确样本类别</font>|\n",
    "|<font face=\"黑体\" size=4 color=DodgerBlue>处理方式</font>|<font face=\"黑体\" size=4>一步到位</font>|<font face=\"黑体\" size=4>训练和预测</font>|\n",
    "|<font face=\"黑体\" size=4 color=DodgerBlue>界限</font>|<font face=\"黑体\" size=4>边界条件可模糊</font>|<font face=\"黑体\" size=4>需明确边界条件</font>|\n",
    "|<font face=\"黑体\" size=4 color=DodgerBlue>应用</font>|<font face=\"黑体\" size=4>不涉及预测</font>|<font face=\"黑体\" size=4>涉及预测</font>|\n",
    "|<font face=\"黑体\" size=4 color=DodgerBlue>复杂度</font>|<font face=\"黑体\" size=4>一般</font>|<font face=\"黑体\" size=4>较复杂</font>|"
   ]
  },
  {
   "cell_type": "markdown",
   "metadata": {},
   "source": [
    "#### 基础聚类算法对比： \n",
    "|<font face=\"黑体\" size=4 color=LightSlateGray>Method name</font>|<font color=DodgerBlue size=4>Parameters</font>|<font color=DodgerBlue size=4>Scalability</font>|<font color=DodgerBlue size=4>Usecase|<font color=DodgerBlue size=4>Geometry (metric used)|\n",
    "|:-:|:-:|:-:|:-:|:-:|\n",
    "|<font color=DodgerBlue size=4>K-Means</font>|number of clusters|Very large n_samples<br><br>medium n_clusters with MiniBatch code|General-purpose<br><br>even cluster size<br><br>flat geometry<br><br>not too many clusters|Distances between points|\n",
    "|<font color=DodgerBlue size=4>Affinity propagation</font>|damping<br><br>sample preference|Not scalable with n_samples|Many clusters<br><br>uneven cluster size<br><br>non-flat geometry|Graph distance<br><br>(e.g. nearest-neighbor graph)|\n",
    "|<font color=DodgerBlue size=4>Mean-shift</font>|bandwidth|Not scalable with n_samples|Many clusters<br><br>uneven cluster size<br><br>non-flat geometry|Distances between points|\n",
    "|<font color=DodgerBlue size=4>Spectral clustering</font>|number of clusters|Medium n_samples<br><br>small n_clusters|Few clusters<br><br>even cluster size<br><br>non-flat geometry|Graph distance (e.g. nearest-neighbor graph)|\n",
    "|<font color=DodgerBlue size=4>Ward hierarchical clustering</font>|number of clusters|Large n_samples and n_clusters|Many clusters<br><br>possibly connectivity constraints|Distances between points|\n",
    "|<font color=DodgerBlue size=4>Agglomerative clustering</font>|number of clusters<br><br>linkage type<br><br>distance|Large n_samples and n_clusters|Many clusters<br><br>possibly connectivity constraints<br><br>non Euclidean distances|Any pairwise distance|\n",
    "|<font color=DodgerBlue size=4>DBSCAN</font>|neighborhood size|Very large n_samples<br><br>medium n_clusters|Non-flat geometry<br><br>uneven cluster sizes|Distances between nearest points|\n",
    "|<font color=DodgerBlue size=4>Gaussian mixtures</font>|many|Not scalable|Flat geometry<br><br> good for density estimation|Mahalanobis distances to centers|\n",
    "|<font color=DodgerBlue size=4>Birch</font>|branching factor<br><br>threshold<br><br>optional global clusterer|Large n_clusters and n_samples|Large dataset<br><br>outlier removal<br><br> data reduction|Euclidean distance between points|"
   ]
  },
  {
   "cell_type": "markdown",
   "metadata": {},
   "source": [
    "##### 基于划分：  \n",
    "给定一个有N个元组或者纪录的数据集，分裂法将构造K个分组，每一个分组就代表一个聚类，K<N。    \n",
    "预先指定聚类数目或聚类中心，反复迭代逐步降低目标函数误差值直至收敛，得到最终结果。   \n",
    "特点：计算量大。很适合发现中小规模的数据库中小规模的数据库中的球状簇。  \n",
    "算法：K-MEANS算法、K-MEDOIDS算法、CLARANS算法"
   ]
  },
  {
   "cell_type": "markdown",
   "metadata": {},
   "source": [
    "#####  基于层次：\n",
    "对给定的数据集进行层次似的分解，直到某种条件满足为止。具体又可分为“自底向上”和“自顶向下”两种方案。  \n",
    "将每个对象作为一个簇，然后合并这些原子簇为越来越大的簇，直到所有对象都在一个簇中，或者某个终结条件被满足。   \n",
    "特点：较小的计算开销。然而这种技术不能更正错误的决定。  \n",
    "算法：BIRCH算法、CURE算法、CHAMELEON算法"
   ]
  },
  {
   "cell_type": "markdown",
   "metadata": {},
   "source": [
    "##### 基于密度：  \n",
    "只要一个区域中的点的密度大过某个阈值，就把它加到与之相近的聚类中去。   \n",
    "只要邻近区域的密度（对象或数据点的数目）超过某个阈值，就继续聚类。  \n",
    "擅于解决不规则形状的聚类问题，广泛应用于空间信息处理。  \n",
    "特点：能克服基于距离的算法只能发现“类圆形”的聚类的缺点。  \n",
    "算法：DBSCAN算法、OPTICS算法、DENCLUE算法"
   ]
  },
  {
   "cell_type": "markdown",
   "metadata": {},
   "source": [
    "##### 基于网格：\n",
    "将数据空间划分成为有限个单元（cell）的网格结构,所有的处理都是以单个的单元为对象的。  \n",
    "基于网格的方法把对象空间量化为有限数目的单元，形成一个网格结构。所有的聚类操作都在这个网格结构（即量化空间）上进行。这种方法的主要优点是它的处理速度很快，其处理速度独立于数据对象的数目，只与量化空间中每一维的单元数目有关。但这种算法效率的提高是以聚类结果的精确性为代价的。经常与基于密度的算法结合使用。  \n",
    "特点：处理速度很快，通常这是与目标数据库中记录的个数无关的，只与把数据空间分为多少个单元有关。  \n",
    "算法：STING算法、CLIQUE算法、WAVE-CLUSTER算法"
   ]
  },
  {
   "cell_type": "markdown",
   "metadata": {},
   "source": [
    "##### 基于模型：  \n",
    "为每簇假定了一个模型，寻找数据对给定模型的最佳拟合，同一“类”的数据属于同一种概率分布，即假设数据是根据潜在的概率分布生成的。主要有基于统计学模型的方法和基于神经网络模型的方法，尤其以基于概率模型的方法居多。一个基于模型的算法可能通过构建反应数据点空间分布的密度函数来定位聚类。基于模型的聚类试图优化给定的数据和某些数据模型之间的适应性。  \n",
    "特点：输入对象存在拓扑结构或顺序，可实现从输入空间(n维)到输出平面(2维)的降维映射，其映射具有拓扑特征保持性质,与实际的大脑处理有很强的理论联系。   \n",
    "算法：SOM神经网络算法"
   ]
  },
  {
   "cell_type": "markdown",
   "metadata": {},
   "source": [
    "##### 基于约束： \n",
    "真实世界中的聚类问题往往是具备多种约束条件的 , 然而由于在处理过程中不能准确表达相应的约束条件、不能很好地利用约束知识进行推理以及不能有效利用动态的约束条件 , 使得这一方法无法得到广泛的推广和应用。这里的约束可以是对个体对象的约束 , 也可以是对聚类参数的约束 , 它们均来自相关领域的经验知识。该方法的一个重要应用在于对存在障碍数据的二维空间数据进行聚类。   \n",
    "特点：其主要思想是用两点之间的障碍距离取代了一般的欧氏距离来计算其间的最小距离。  \n",
    "算法：COD (Clustering with Ob2structed Distance) 算法。"
   ]
  },
  {
   "cell_type": "markdown",
   "metadata": {},
   "source": [
    "##### 基于模糊： \n",
    "仍在学习中，暂无实际应用"
   ]
  },
  {
   "cell_type": "markdown",
   "metadata": {},
   "source": [
    "##### 基于粒度： \n",
    "仍在学习中，暂无实际应用"
   ]
  },
  {
   "cell_type": "markdown",
   "metadata": {},
   "source": [
    "##### 常用算法特点对比表\n",
    "|<font color=LightSlateGray size=4>算法名称</font>|<font color=DodgerBlue size=4>可伸缩性</font>|<font color=DodgerBlue size=4>适合数据类型</font>|<font color=DodgerBlue size=4>高维性</font>|<font color=DodgerBlue size=4>异常数据干扰性</font>|<font color=DodgerBlue size=4>聚类形状</font>|<font color=DodgerBlue size=4>算法效率</font>|\n",
    "|:-:|:-:|:-:|:-:|:-:|:-:|:-:|\n",
    "|<font color=DodgerBlue size=4>WaveCluster</font>|很高|数值型|很高|较高|任意形状|很高|\n",
    "|<font color=DodgerBlue size=4>Rock</font>|很高|混合型|很高|很高|任意形状|一般|\n",
    "|<font color=DodgerBlue size=4>Birch</font>|较高|数值型|较低|较低|球形|很高|\n",
    "|<font color=DodgerBlue size=4>Cure</font>|较高|数值型|一般|很高|任意形状|较高|\n",
    "|<font color=DodgerBlue size=4>K-Protoypes</font>|一般|混合型|较低|较低|任意形状|一般|\n",
    "|<font color=DodgerBlue size=4>Denclue</font>|较低|数值型|较高|一般|任意形状|较高|\n",
    "|<font color=DodgerBlue size=4>Optigrid</font>|一般|数值型|较高|一般|任意形状|一般|\n",
    "|<font color=DodgerBlue size=4>Clique</font>|较高|数值型|较高|较高|任意形状|较低|\n",
    "|<font color=DodgerBlue size=4>Dbscan</font>|一般|数值型|较低|较高|任意形状|一般|\n",
    "|<font color=DodgerBlue size=4>Clarans</font>|较低|数值型|较低|较高|球形|较低|"
   ]
  },
  {
   "cell_type": "code",
   "execution_count": null,
   "metadata": {},
   "outputs": [],
   "source": []
  }
 ],
 "metadata": {
  "kernelspec": {
   "display_name": "Python 3",
   "language": "python",
   "name": "python3"
  },
  "language_info": {
   "codemirror_mode": {
    "name": "ipython",
    "version": 3
   },
   "file_extension": ".py",
   "mimetype": "text/x-python",
   "name": "python",
   "nbconvert_exporter": "python",
   "pygments_lexer": "ipython3",
   "version": "3.6.5"
  }
 },
 "nbformat": 4,
 "nbformat_minor": 2
}
