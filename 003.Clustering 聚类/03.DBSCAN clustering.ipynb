{
 "cells": [
  {
   "cell_type": "markdown",
   "metadata": {},
   "source": [
    "# DBSCAN\n",
    "(eps=0.5, min_samples=5, metric='euclidean', metric_params=None, algorithm='auto', leaf_size=30, p=None, n_jobs=1)"
   ]
  },
  {
   "cell_type": "markdown",
   "metadata": {},
   "source": [
    "* <font color=red>eps </font>: float, optional  \n",
    "ϵϵ-邻域的距离阈值，和样本距离超过ϵϵ的样本点不在ϵϵ-邻域内。默认值是0.5.一般需要通过在多组值里面选择一个合适的阈值。eps过大，则更多的点会落在核心对象的ϵϵ-邻域，此时我们的类别数可能会减少， 本来不应该是一类的样本也会被划为一类。反之则类别数可能会增大，本来是一类的样本却被划分开。\n",
    "* <font color=red>min_samples</font> : int, optional  \n",
    "样本点要成为核心对象所需要的ϵϵ-邻域的样本数阈值。默认值是5. 一般需要通过在多组值里面选择一个合适的阈值。通常和eps一起调参。在eps一定的情况下，min_samples过大，则核心对象会过少，此时簇内部分本来是一类的样本可能会被标为噪音点，类别数也会变多。反之min_samples过小的话，则会产生大量的核心对象，可能会导致类别数过少。\n",
    "* <font color=red>metric</font> : string, or callable  \n",
    "欧式距离 “euclidean”,曼哈顿距离 “manhattan”,切比雪夫距离“chebyshev”,闵可夫斯基距离 “minkowski”,带权重闵可夫斯基距离 “wminkowski”,标准化欧式距离 “seuclidean”,马氏距离“mahalanobis”\n",
    "* <font color=red>algorithm </font>: 【{'auto', 'ball_tree', 'kd_tree', 'brute'}, optional 最近邻搜索算法参数 默认：auto\n",
    "brute是蛮力实现，kd_tree是KD树实现，ball_tree是球树实现,  \n",
    "auto则会在三种算法中做权衡，选择一个拟合最好的最优算法】\n",
    "* <font color=red>leaf_size</font> : int, optional (default = 30)  \n",
    "使用KD树或者球树时,停止建子树的叶子节点数量的阈值 默认：30（最近邻搜索算法的参数）\n",
    "* <font color=red>p</font> : float, optional   \n",
    "只用于闵可夫斯基距离和带权重闵可夫斯基距离中p值的选择 默认：None  p=1为曼哈顿距离， p=2为欧式距离\n",
    "* <font color=red>n_jobs</font> : int, optional  \n",
    "(default = 1) 使用的进程数量，默认为：1 若值为 -1，则用所有的CPU进行运算"
   ]
  },
  {
   "cell_type": "code",
   "execution_count": 1,
   "metadata": {},
   "outputs": [],
   "source": [
    "data = [['Budweiser', 144, 15, 4.7, 0.43],\n",
    " ['Schlitz', 151, 19, 4.9, 0.43],\n",
    " ['Lowenbrau', 157, 15, 0.9, 0.48],\n",
    " ['Kronenbourg', 170, 7, 5.2, 0.73],\n",
    " ['Heineken', 152, 11, 5.0, 0.77],\n",
    " ['Old_Milwaukee', 145, 23, 4.6, 0.28],\n",
    " ['Augsberger', 175, 24, 5.5, 0.4],\n",
    " ['Srohs_Bohemian_Style', 149, 27, 4.7, 0.42],\n",
    " ['Miller_Lite', 99, 10, 4.3, 0.43],\n",
    " ['Budweiser_Light', 113, 8, 3.7, 0.4],\n",
    " ['Coors', 140, 18, 4.6, 0.44],\n",
    " ['Coors_Light', 102, 15, 4.1, 0.46],\n",
    " ['Michelob_Light', 135, 11, 4.2, 0.5],\n",
    " ['Becks', 150, 19, 4.7, 0.76],\n",
    " ['Kirin', 149, 6, 5.0, 0.79],\n",
    " ['Pabst_Extra_Light', 68, 15, 2.3, 0.38],\n",
    " ['Hamms', 139, 19, 4.4, 0.43],\n",
    " ['Heilemans_Old_Style', 144, 24, 4.9, 0.43],\n",
    " ['Olympia_Goled_Light', 72, 6, 2.9, 0.46],\n",
    " ['Schlitz_Light', 97, 7, 4.2, 0.47]]"
   ]
  },
  {
   "cell_type": "code",
   "execution_count": 2,
   "metadata": {},
   "outputs": [
    {
     "data": {
      "text/html": [
       "<div>\n",
       "<style scoped>\n",
       "    .dataframe tbody tr th:only-of-type {\n",
       "        vertical-align: middle;\n",
       "    }\n",
       "\n",
       "    .dataframe tbody tr th {\n",
       "        vertical-align: top;\n",
       "    }\n",
       "\n",
       "    .dataframe thead th {\n",
       "        text-align: right;\n",
       "    }\n",
       "</style>\n",
       "<table border=\"1\" class=\"dataframe\">\n",
       "  <thead>\n",
       "    <tr style=\"text-align: right;\">\n",
       "      <th></th>\n",
       "      <th>calories</th>\n",
       "      <th>sodium</th>\n",
       "      <th>alcohol</th>\n",
       "      <th>cost</th>\n",
       "    </tr>\n",
       "  </thead>\n",
       "  <tbody>\n",
       "    <tr>\n",
       "      <th>0</th>\n",
       "      <td>144</td>\n",
       "      <td>15</td>\n",
       "      <td>4.7</td>\n",
       "      <td>0.43</td>\n",
       "    </tr>\n",
       "    <tr>\n",
       "      <th>1</th>\n",
       "      <td>151</td>\n",
       "      <td>19</td>\n",
       "      <td>4.9</td>\n",
       "      <td>0.43</td>\n",
       "    </tr>\n",
       "    <tr>\n",
       "      <th>2</th>\n",
       "      <td>157</td>\n",
       "      <td>15</td>\n",
       "      <td>0.9</td>\n",
       "      <td>0.48</td>\n",
       "    </tr>\n",
       "    <tr>\n",
       "      <th>3</th>\n",
       "      <td>170</td>\n",
       "      <td>7</td>\n",
       "      <td>5.2</td>\n",
       "      <td>0.73</td>\n",
       "    </tr>\n",
       "    <tr>\n",
       "      <th>4</th>\n",
       "      <td>152</td>\n",
       "      <td>11</td>\n",
       "      <td>5.0</td>\n",
       "      <td>0.77</td>\n",
       "    </tr>\n",
       "  </tbody>\n",
       "</table>\n",
       "</div>"
      ],
      "text/plain": [
       "   calories  sodium  alcohol  cost\n",
       "0       144      15      4.7  0.43\n",
       "1       151      19      4.9  0.43\n",
       "2       157      15      0.9  0.48\n",
       "3       170       7      5.2  0.73\n",
       "4       152      11      5.0  0.77"
      ]
     },
     "execution_count": 2,
     "metadata": {},
     "output_type": "execute_result"
    }
   ],
   "source": [
    "import pandas as pd\n",
    "df = pd.DataFrame(data,columns=[\"name\",\"calories\",\"sodium\",\"alcohol\",\"cost\"])\n",
    "X = df[[\"calories\",\"sodium\",\"alcohol\",\"cost\"]]\n",
    "X.head()"
   ]
  },
  {
   "cell_type": "code",
   "execution_count": 3,
   "metadata": {},
   "outputs": [],
   "source": [
    "from sklearn.cluster import DBSCAN\n",
    "db = DBSCAN(eps=10, min_samples=3,metric=\"euclidean\").fit(X)"
   ]
  },
  {
   "cell_type": "code",
   "execution_count": 4,
   "metadata": {},
   "outputs": [
    {
     "data": {
      "text/html": [
       "<div>\n",
       "<style scoped>\n",
       "    .dataframe tbody tr th:only-of-type {\n",
       "        vertical-align: middle;\n",
       "    }\n",
       "\n",
       "    .dataframe tbody tr th {\n",
       "        vertical-align: top;\n",
       "    }\n",
       "\n",
       "    .dataframe thead th {\n",
       "        text-align: right;\n",
       "    }\n",
       "</style>\n",
       "<table border=\"1\" class=\"dataframe\">\n",
       "  <thead>\n",
       "    <tr style=\"text-align: right;\">\n",
       "      <th></th>\n",
       "      <th>calories</th>\n",
       "      <th>sodium</th>\n",
       "      <th>alcohol</th>\n",
       "      <th>cost</th>\n",
       "      <th>cluster_db</th>\n",
       "    </tr>\n",
       "  </thead>\n",
       "  <tbody>\n",
       "    <tr>\n",
       "      <th>9</th>\n",
       "      <td>113</td>\n",
       "      <td>8</td>\n",
       "      <td>3.7</td>\n",
       "      <td>0.40</td>\n",
       "      <td>-1</td>\n",
       "    </tr>\n",
       "    <tr>\n",
       "      <th>3</th>\n",
       "      <td>170</td>\n",
       "      <td>7</td>\n",
       "      <td>5.2</td>\n",
       "      <td>0.73</td>\n",
       "      <td>-1</td>\n",
       "    </tr>\n",
       "    <tr>\n",
       "      <th>15</th>\n",
       "      <td>68</td>\n",
       "      <td>15</td>\n",
       "      <td>2.3</td>\n",
       "      <td>0.38</td>\n",
       "      <td>-1</td>\n",
       "    </tr>\n",
       "    <tr>\n",
       "      <th>6</th>\n",
       "      <td>175</td>\n",
       "      <td>24</td>\n",
       "      <td>5.5</td>\n",
       "      <td>0.40</td>\n",
       "      <td>-1</td>\n",
       "    </tr>\n",
       "    <tr>\n",
       "      <th>18</th>\n",
       "      <td>72</td>\n",
       "      <td>6</td>\n",
       "      <td>2.9</td>\n",
       "      <td>0.46</td>\n",
       "      <td>-1</td>\n",
       "    </tr>\n",
       "  </tbody>\n",
       "</table>\n",
       "</div>"
      ],
      "text/plain": [
       "    calories  sodium  alcohol  cost  cluster_db\n",
       "9        113       8      3.7  0.40          -1\n",
       "3        170       7      5.2  0.73          -1\n",
       "15        68      15      2.3  0.38          -1\n",
       "6        175      24      5.5  0.40          -1\n",
       "18        72       6      2.9  0.46          -1"
      ]
     },
     "execution_count": 4,
     "metadata": {},
     "output_type": "execute_result"
    }
   ],
   "source": [
    "labels = db.labels_\n",
    "X['cluster_db'] = labels\n",
    "X.sort_values('cluster_db').head()"
   ]
  },
  {
   "cell_type": "code",
   "execution_count": 5,
   "metadata": {},
   "outputs": [
    {
     "data": {
      "text/html": [
       "<div>\n",
       "<style scoped>\n",
       "    .dataframe tbody tr th:only-of-type {\n",
       "        vertical-align: middle;\n",
       "    }\n",
       "\n",
       "    .dataframe tbody tr th {\n",
       "        vertical-align: top;\n",
       "    }\n",
       "\n",
       "    .dataframe thead th {\n",
       "        text-align: right;\n",
       "    }\n",
       "</style>\n",
       "<table border=\"1\" class=\"dataframe\">\n",
       "  <thead>\n",
       "    <tr style=\"text-align: right;\">\n",
       "      <th></th>\n",
       "      <th>calories</th>\n",
       "      <th>sodium</th>\n",
       "      <th>alcohol</th>\n",
       "      <th>cost</th>\n",
       "    </tr>\n",
       "    <tr>\n",
       "      <th>cluster_db</th>\n",
       "      <th></th>\n",
       "      <th></th>\n",
       "      <th></th>\n",
       "      <th></th>\n",
       "    </tr>\n",
       "  </thead>\n",
       "  <tbody>\n",
       "    <tr>\n",
       "      <th>-1</th>\n",
       "      <td>119.600000</td>\n",
       "      <td>12.000000</td>\n",
       "      <td>3.920000</td>\n",
       "      <td>0.474000</td>\n",
       "    </tr>\n",
       "    <tr>\n",
       "      <th>0</th>\n",
       "      <td>146.250000</td>\n",
       "      <td>17.250000</td>\n",
       "      <td>4.383333</td>\n",
       "      <td>0.513333</td>\n",
       "    </tr>\n",
       "    <tr>\n",
       "      <th>1</th>\n",
       "      <td>99.333333</td>\n",
       "      <td>10.666667</td>\n",
       "      <td>4.200000</td>\n",
       "      <td>0.453333</td>\n",
       "    </tr>\n",
       "  </tbody>\n",
       "</table>\n",
       "</div>"
      ],
      "text/plain": [
       "              calories     sodium   alcohol      cost\n",
       "cluster_db                                           \n",
       "-1          119.600000  12.000000  3.920000  0.474000\n",
       " 0          146.250000  17.250000  4.383333  0.513333\n",
       " 1           99.333333  10.666667  4.200000  0.453333"
      ]
     },
     "execution_count": 5,
     "metadata": {},
     "output_type": "execute_result"
    }
   ],
   "source": [
    "X.groupby('cluster_db').mean()"
   ]
  },
  {
   "cell_type": "code",
   "execution_count": 7,
   "metadata": {},
   "outputs": [
    {
     "data": {
      "text/plain": [
       "array([[<matplotlib.axes._subplots.AxesSubplot object at 0x00000130A7A14518>,\n",
       "        <matplotlib.axes._subplots.AxesSubplot object at 0x00000130A7A39710>,\n",
       "        <matplotlib.axes._subplots.AxesSubplot object at 0x00000130A7A64D68>,\n",
       "        <matplotlib.axes._subplots.AxesSubplot object at 0x00000130A7A95438>,\n",
       "        <matplotlib.axes._subplots.AxesSubplot object at 0x00000130A7ABCAC8>],\n",
       "       [<matplotlib.axes._subplots.AxesSubplot object at 0x00000130A7ABCB00>,\n",
       "        <matplotlib.axes._subplots.AxesSubplot object at 0x00000130A7B18828>,\n",
       "        <matplotlib.axes._subplots.AxesSubplot object at 0x00000130A7B3FEB8>,\n",
       "        <matplotlib.axes._subplots.AxesSubplot object at 0x00000130A7B72588>,\n",
       "        <matplotlib.axes._subplots.AxesSubplot object at 0x00000130A7B9AC18>],\n",
       "       [<matplotlib.axes._subplots.AxesSubplot object at 0x00000130A7BCB2E8>,\n",
       "        <matplotlib.axes._subplots.AxesSubplot object at 0x00000130A7BF1978>,\n",
       "        <matplotlib.axes._subplots.AxesSubplot object at 0x00000130A7C24048>,\n",
       "        <matplotlib.axes._subplots.AxesSubplot object at 0x00000130A7C4D6D8>,\n",
       "        <matplotlib.axes._subplots.AxesSubplot object at 0x00000130A7C75D68>],\n",
       "       [<matplotlib.axes._subplots.AxesSubplot object at 0x00000130A7CA8438>,\n",
       "        <matplotlib.axes._subplots.AxesSubplot object at 0x00000130A7CCEAC8>,\n",
       "        <matplotlib.axes._subplots.AxesSubplot object at 0x00000130A7D01198>,\n",
       "        <matplotlib.axes._subplots.AxesSubplot object at 0x00000130A7D29828>,\n",
       "        <matplotlib.axes._subplots.AxesSubplot object at 0x00000130A7D52EB8>],\n",
       "       [<matplotlib.axes._subplots.AxesSubplot object at 0x00000130A7D83588>,\n",
       "        <matplotlib.axes._subplots.AxesSubplot object at 0x00000130A7DA9C18>,\n",
       "        <matplotlib.axes._subplots.AxesSubplot object at 0x00000130A7DDC2E8>,\n",
       "        <matplotlib.axes._subplots.AxesSubplot object at 0x00000130A7E04978>,\n",
       "        <matplotlib.axes._subplots.AxesSubplot object at 0x00000130A7E37048>]],\n",
       "      dtype=object)"
      ]
     },
     "execution_count": 7,
     "metadata": {},
     "output_type": "execute_result"
    },
    {
     "data": {
      "image/png": "[encoded data removed]",
      "text/plain": [
       "<Figure size 720x720 with 25 Axes>"
      ]
     },
     "metadata": {},
     "output_type": "display_data"
    }
   ],
   "source": [
    "import numpy as np\n",
    "colors = np.array(['red', 'green', 'blue', 'yellow'])\n",
    "pd.scatter_matrix(X,c=colors[X.cluster_db], figsize=(10,10), s=200)"
   ]
  },
  {
   "cell_type": "code",
   "execution_count": null,
   "metadata": {},
   "outputs": [],
   "source": []
  }
 ],
 "metadata": {
  "kernelspec": {
   "display_name": "Python 3",
   "language": "python",
   "name": "python3"
  },
  "language_info": {
   "codemirror_mode": {
    "name": "ipython",
    "version": 3
   },
   "file_extension": ".py",
   "mimetype": "text/x-python",
   "name": "python",
   "nbconvert_exporter": "python",
   "pygments_lexer": "ipython3",
   "version": "3.6.5"
  }
 },
 "nbformat": 4,
 "nbformat_minor": 2
}
