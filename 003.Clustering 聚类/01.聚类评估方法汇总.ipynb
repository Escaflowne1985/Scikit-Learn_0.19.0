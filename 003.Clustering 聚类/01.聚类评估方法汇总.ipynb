{
 "cells": [
  {
   "cell_type": "markdown",
   "metadata": {},
   "source": [
    "# 聚类评估方法汇总"
   ]
  },
  {
   "cell_type": "code",
   "execution_count": 1,
   "metadata": {},
   "outputs": [],
   "source": [
    "data = [['Budweiser', 144, 15, 4.7, 0.43],\n",
    " ['Schlitz', 151, 19, 4.9, 0.43],\n",
    " ['Lowenbrau', 157, 15, 0.9, 0.48],\n",
    " ['Kronenbourg', 170, 7, 5.2, 0.73],\n",
    " ['Heineken', 152, 11, 5.0, 0.77],\n",
    " ['Old_Milwaukee', 145, 23, 4.6, 0.28],\n",
    " ['Augsberger', 175, 24, 5.5, 0.4],\n",
    " ['Srohs_Bohemian_Style', 149, 27, 4.7, 0.42],\n",
    " ['Miller_Lite', 99, 10, 4.3, 0.43],\n",
    " ['Budweiser_Light', 113, 8, 3.7, 0.4],\n",
    " ['Coors', 140, 18, 4.6, 0.44],\n",
    " ['Coors_Light', 102, 15, 4.1, 0.46],\n",
    " ['Michelob_Light', 135, 11, 4.2, 0.5],\n",
    " ['Becks', 150, 19, 4.7, 0.76],\n",
    " ['Kirin', 149, 6, 5.0, 0.79],\n",
    " ['Pabst_Extra_Light', 68, 15, 2.3, 0.38],\n",
    " ['Hamms', 139, 19, 4.4, 0.43],\n",
    " ['Heilemans_Old_Style', 144, 24, 4.9, 0.43],\n",
    " ['Olympia_Goled_Light', 72, 6, 2.9, 0.46],\n",
    " ['Schlitz_Light', 97, 7, 4.2, 0.47]]"
   ]
  },
  {
   "cell_type": "code",
   "execution_count": 2,
   "metadata": {},
   "outputs": [],
   "source": [
    "import pandas as pd\n",
    "import warnings\n",
    "warnings.filterwarnings(\"ignore\")"
   ]
  },
  {
   "cell_type": "code",
   "execution_count": 3,
   "metadata": {},
   "outputs": [
    {
     "data": {
      "text/html": [
       "<div>\n",
       "<style scoped>\n",
       "    .dataframe tbody tr th:only-of-type {\n",
       "        vertical-align: middle;\n",
       "    }\n",
       "\n",
       "    .dataframe tbody tr th {\n",
       "        vertical-align: top;\n",
       "    }\n",
       "\n",
       "    .dataframe thead th {\n",
       "        text-align: right;\n",
       "    }\n",
       "</style>\n",
       "<table border=\"1\" class=\"dataframe\">\n",
       "  <thead>\n",
       "    <tr style=\"text-align: right;\">\n",
       "      <th></th>\n",
       "      <th>calories</th>\n",
       "      <th>sodium</th>\n",
       "      <th>alcohol</th>\n",
       "      <th>cost</th>\n",
       "    </tr>\n",
       "  </thead>\n",
       "  <tbody>\n",
       "    <tr>\n",
       "      <th>0</th>\n",
       "      <td>144</td>\n",
       "      <td>15</td>\n",
       "      <td>4.7</td>\n",
       "      <td>0.43</td>\n",
       "    </tr>\n",
       "    <tr>\n",
       "      <th>1</th>\n",
       "      <td>151</td>\n",
       "      <td>19</td>\n",
       "      <td>4.9</td>\n",
       "      <td>0.43</td>\n",
       "    </tr>\n",
       "    <tr>\n",
       "      <th>2</th>\n",
       "      <td>157</td>\n",
       "      <td>15</td>\n",
       "      <td>0.9</td>\n",
       "      <td>0.48</td>\n",
       "    </tr>\n",
       "    <tr>\n",
       "      <th>3</th>\n",
       "      <td>170</td>\n",
       "      <td>7</td>\n",
       "      <td>5.2</td>\n",
       "      <td>0.73</td>\n",
       "    </tr>\n",
       "    <tr>\n",
       "      <th>4</th>\n",
       "      <td>152</td>\n",
       "      <td>11</td>\n",
       "      <td>5.0</td>\n",
       "      <td>0.77</td>\n",
       "    </tr>\n",
       "  </tbody>\n",
       "</table>\n",
       "</div>"
      ],
      "text/plain": [
       "   calories  sodium  alcohol  cost\n",
       "0       144      15      4.7  0.43\n",
       "1       151      19      4.9  0.43\n",
       "2       157      15      0.9  0.48\n",
       "3       170       7      5.2  0.73\n",
       "4       152      11      5.0  0.77"
      ]
     },
     "execution_count": 3,
     "metadata": {},
     "output_type": "execute_result"
    }
   ],
   "source": [
    "df = pd.DataFrame(data,columns=[\"name\",\"calories\",\"sodium\",\"alcohol\",\"cost\"])\n",
    "X = df[[\"calories\",\"sodium\",\"alcohol\",\"cost\"]]\n",
    "X.head()"
   ]
  },
  {
   "cell_type": "markdown",
   "metadata": {},
   "source": [
    "### SSE(和方差)\n",
    "该统计参数计算的是拟合数据和原始数据对应点的误差的平方和，计算公式如下  \n",
    " $\\sum_{i=1}^{n}{(y_i - \\hat{y_i})^2}$ \n",
    "SSE越接近于0，说明模型选择和拟合更好，数据预测也越成功。"
   ]
  },
  {
   "cell_type": "code",
   "execution_count": 5,
   "metadata": {},
   "outputs": [
    {
     "data": {
      "image/png": "[encoded data removed]",
      "text/plain": [
       "<Figure size 432x288 with 1 Axes>"
      ]
     },
     "metadata": {},
     "output_type": "display_data"
    }
   ],
   "source": [
    "#断崖碎石图选取最优K值\n",
    "import pandas as pd  \n",
    "from sklearn.cluster import KMeans  \n",
    "import matplotlib.pyplot as plt  \n",
    "'利用SSE选择k'  \n",
    "SSE = []  # 存放每次结果的误差平方和  \n",
    "for k in range(1,9):  \n",
    "    estimator = KMeans(n_clusters=k)  # 构造聚类器  \n",
    "    estimator.fit(df[['calories','sodium','alcohol','cost']])  \n",
    "    SSE.append(estimator.inertia_)  \n",
    "N = range(1,9)  \n",
    "plt.xlabel('k')  \n",
    "plt.ylabel('SSE')  \n",
    "plt.plot(N,SSE,'o-')  \n",
    "plt.show() "
   ]
  },
  {
   "cell_type": "markdown",
   "metadata": {},
   "source": [
    "#### 轮廓系数（Silhouette Coefficient ）\n",
    "\n",
    "$s(i) = \\frac{(b(i)-a(i))}{max\\{a(i),b(i)\\}}$  \n",
    "$s(i) = \\begin{Bmatrix}1-\\frac{a(i)}{b(i)},a(i)<b(i)\\\\\\\\0,a(i)=b(i)\\\\\\\\\\frac{b(i)}{a(i)}-1,a(i)>b(i)\\end{Bmatrix}$\n",
    "- 计算样本i到同簇其他样本的平均距离a(i)。a(i)越小，说明样本i越应该被聚类到该簇。将a(i)称为样本i的簇内不相似度。  \n",
    "- 计算样本i到其他某簇Cj 的所有样本的平均距离bij，称为样本i与簇Cj 的不相似度。定义为样本i的簇间不相似度：bi =min{bi1, bi2, ..., bik}  \n",
    "* si接近1，则说明样本i聚类合理\n",
    "* si接近-1，则说明样本i更应该分类到另外的簇\n",
    "* 若si 近似为0，则说明样本i在两个簇的边界上。"
   ]
  },
  {
   "cell_type": "code",
   "execution_count": 6,
   "metadata": {},
   "outputs": [
    {
     "data": {
      "text/html": [
       "<div>\n",
       "<style scoped>\n",
       "    .dataframe tbody tr th:only-of-type {\n",
       "        vertical-align: middle;\n",
       "    }\n",
       "\n",
       "    .dataframe tbody tr th {\n",
       "        vertical-align: top;\n",
       "    }\n",
       "\n",
       "    .dataframe thead th {\n",
       "        text-align: right;\n",
       "    }\n",
       "</style>\n",
       "<table border=\"1\" class=\"dataframe\">\n",
       "  <thead>\n",
       "    <tr style=\"text-align: right;\">\n",
       "      <th></th>\n",
       "      <th>0</th>\n",
       "      <th>1</th>\n",
       "      <th>2</th>\n",
       "      <th>3</th>\n",
       "      <th>4</th>\n",
       "      <th>5</th>\n",
       "      <th>6</th>\n",
       "      <th>7</th>\n",
       "      <th>8</th>\n",
       "      <th>9</th>\n",
       "      <th>10</th>\n",
       "      <th>11</th>\n",
       "      <th>12</th>\n",
       "      <th>13</th>\n",
       "      <th>14</th>\n",
       "      <th>15</th>\n",
       "      <th>16</th>\n",
       "      <th>17</th>\n",
       "    </tr>\n",
       "  </thead>\n",
       "  <tbody>\n",
       "    <tr>\n",
       "      <th>lables</th>\n",
       "      <td>2.000000</td>\n",
       "      <td>3.000000</td>\n",
       "      <td>4.000000</td>\n",
       "      <td>5.000000</td>\n",
       "      <td>6.000000</td>\n",
       "      <td>7.000000</td>\n",
       "      <td>8.000000</td>\n",
       "      <td>9.000000</td>\n",
       "      <td>10.00000</td>\n",
       "      <td>11.000000</td>\n",
       "      <td>12.000000</td>\n",
       "      <td>13.000000</td>\n",
       "      <td>14.000000</td>\n",
       "      <td>15.000000</td>\n",
       "      <td>16.000000</td>\n",
       "      <td>17.000000</td>\n",
       "      <td>18.000000</td>\n",
       "      <td>19.000000</td>\n",
       "    </tr>\n",
       "    <tr>\n",
       "      <th>score</th>\n",
       "      <td>0.691766</td>\n",
       "      <td>0.673178</td>\n",
       "      <td>0.585704</td>\n",
       "      <td>0.422549</td>\n",
       "      <td>0.455918</td>\n",
       "      <td>0.437761</td>\n",
       "      <td>0.389463</td>\n",
       "      <td>0.387476</td>\n",
       "      <td>0.39157</td>\n",
       "      <td>0.412826</td>\n",
       "      <td>0.345978</td>\n",
       "      <td>0.312214</td>\n",
       "      <td>0.307078</td>\n",
       "      <td>0.318346</td>\n",
       "      <td>0.284951</td>\n",
       "      <td>0.234981</td>\n",
       "      <td>0.158809</td>\n",
       "      <td>0.084231</td>\n",
       "    </tr>\n",
       "  </tbody>\n",
       "</table>\n",
       "</div>"
      ],
      "text/plain": [
       "              0         1         2         3         4         5         6   \\\n",
       "lables  2.000000  3.000000  4.000000  5.000000  6.000000  7.000000  8.000000   \n",
       "score   0.691766  0.673178  0.585704  0.422549  0.455918  0.437761  0.389463   \n",
       "\n",
       "              7         8          9          10         11         12  \\\n",
       "lables  9.000000  10.00000  11.000000  12.000000  13.000000  14.000000   \n",
       "score   0.387476   0.39157   0.412826   0.345978   0.312214   0.307078   \n",
       "\n",
       "               13         14         15         16         17  \n",
       "lables  15.000000  16.000000  17.000000  18.000000  19.000000  \n",
       "score    0.318346   0.284951   0.234981   0.158809   0.084231  "
      ]
     },
     "execution_count": 6,
     "metadata": {},
     "output_type": "execute_result"
    }
   ],
   "source": [
    "from sklearn.cluster import KMeans\n",
    "from sklearn import metrics\n",
    "scores = []\n",
    "for k in range(2,20):\n",
    "    labels = KMeans(n_clusters=k).fit(X).labels_\n",
    "    score = metrics.silhouette_score(X, labels)\n",
    "    scores.append((k,score))\n",
    "scores = pd.DataFrame(scores,columns=[\"lables\",\"score\"])\n",
    "scores.T"
   ]
  },
  {
   "cell_type": "code",
   "execution_count": 7,
   "metadata": {},
   "outputs": [
    {
     "data": {
      "text/plain": [
       "Text(0,0.5,'Sihouette Score')"
      ]
     },
     "execution_count": 7,
     "metadata": {},
     "output_type": "execute_result"
    },
    {
     "data": {
      "image/png": "[encoded data removed]",
      "text/plain": [
       "<Figure size 432x288 with 1 Axes>"
      ]
     },
     "metadata": {},
     "output_type": "display_data"
    }
   ],
   "source": [
    "import matplotlib.pyplot as plt  \n",
    "plt.plot(list(range(2,20)), scores.score)\n",
    "plt.xlabel(\"Number of Clusters Initialized\")\n",
    "plt.ylabel(\"Sihouette Score\")"
   ]
  },
  {
   "cell_type": "markdown",
   "metadata": {},
   "source": [
    "####  调整兰德系数（Adjusted Rand index）  \n",
    "\n",
    "兰德系数（Rand index）需要给定实际类别信息C，假设K是聚类结果，a表示在C与K中都是同类别的元素对数，b表示在C与K中都是不同类别的元素对数  \n",
    "$ARI =\\frac{\\sum{_i}{_j}(_{2}^{n{_i}{_j}})-[\\sum{_i}(_{2}^{a{_i}})\\sum{_j}(_{2}^{b{_i}})]/(_{2}^{n})}{\\frac12[\\sum{_i}(_{2}^{a{_i}})+\\sum{_j}(_{2}^{b{_i}})]-[\\sum{_i}(_{2}^{a{_i}})\\sum{_j}(_{2}^{b{_i}})]/(_{2}^{n})}$\n",
    "* 优点：  \n",
    "  1. 对任意数量的聚类中心和样本数，随机聚类的ARI都非常接近于0；  \n",
    "  2. 取值在［－1，1］之间，负数代表结果不好，越接近于1越好；  \n",
    "  3. 可用于聚类算法之间的比较\n",
    "* 缺点：  \n",
    "  1. ARI需要真实标签"
   ]
  },
  {
   "cell_type": "code",
   "execution_count": 8,
   "metadata": {},
   "outputs": [
    {
     "data": {
      "text/plain": [
       "0.9154804270462633"
      ]
     },
     "execution_count": 8,
     "metadata": {},
     "output_type": "execute_result"
    }
   ],
   "source": [
    "from sklearn.cluster import KMeans\n",
    "from sklearn import metrics\n",
    "#假定K=2为真实分类\n",
    "labels2 = KMeans(n_clusters=2).fit(X).labels_\n",
    "#使用K=3为预测分类\n",
    "labels3 = KMeans(n_clusters=3).fit(X).labels_\n",
    "\n",
    "metrics.adjusted_rand_score(labels2, labels3) "
   ]
  },
  {
   "cell_type": "markdown",
   "metadata": {},
   "source": [
    "####   互信息（Mutual Information based scores）  \n",
    "互信息（Mutual Information）也是用来衡量两个数据分布的吻合程度。假设U与V是对N个样本标签的分配情况，则两种分布的熵（熵表示的是不确定程度）\n",
    "利用基于互信息的方法来衡量聚类效果需要实际类别信息，MI与NMI取值范围为[0,1]，AMI取值范围为[-1,1]，它们都是值越大意味着聚类结果与真实情况越吻合。   \n",
    "$AMI=\\frac{MI-E[MI]}{max(H(U),H(V))-E[MI]}$\n",
    "* 优点：  \n",
    "  除取值范围在［0，1］之间，其他同ARI，可用于聚类模型选择；\n",
    "* 缺点：  \n",
    "  需要先验知识。"
   ]
  },
  {
   "cell_type": "code",
   "execution_count": 9,
   "metadata": {},
   "outputs": [
    {
     "data": {
      "text/plain": [
       "0.7410165241059806"
      ]
     },
     "execution_count": 9,
     "metadata": {},
     "output_type": "execute_result"
    }
   ],
   "source": [
    "from sklearn.cluster import KMeans\n",
    "from sklearn import metrics\n",
    "#假定K=2为真实分类\n",
    "labels2 = KMeans(n_clusters=2).fit(X).labels_\n",
    "#使用K=3为预测分类\n",
    "labels3 = KMeans(n_clusters=3).fit(X).labels_\n",
    "\n",
    "metrics.adjusted_mutual_info_score(labels2, labels3) "
   ]
  },
  {
   "cell_type": "markdown",
   "metadata": {},
   "source": [
    "####  Homogeneity, completeness and V-measure\n",
    "同质性homogeneity：每个群集只包含单个类的成员。   \n",
    "完整性completeness：给定类的所有成员都分配给同一个群集。"
   ]
  },
  {
   "cell_type": "code",
   "execution_count": 10,
   "metadata": {},
   "outputs": [
    {
     "name": "stdout",
     "output_type": "stream",
     "text": [
      "1.0\n",
      "0.7618485505445785\n",
      "0.8648286486475752\n"
     ]
    }
   ],
   "source": [
    "from sklearn.cluster import KMeans\n",
    "from sklearn import metrics\n",
    "#假定K=2为真实分类\n",
    "labels2 = KMeans(n_clusters=2).fit(X).labels_\n",
    "#使用K=3为预测分类\n",
    "labels3 = KMeans(n_clusters=3).fit(X).labels_\n",
    "\n",
    "print(metrics.homogeneity_score(labels2, labels3))\n",
    "print(metrics.completeness_score(labels2, labels3))\n",
    "#两者的调和平均V-measure\n",
    "print(metrics.v_measure_score(labels2, labels3))"
   ]
  },
  {
   "cell_type": "markdown",
   "metadata": {},
   "source": [
    "#### Fowlkes-Mallows scores  \n",
    "FMI定义为两两精度和召回率的几何平均值  \n",
    "$FMI = \\frac{TP}{\\sqrt{(TP+FP)(TP+FN)}}$"
   ]
  },
  {
   "cell_type": "code",
   "execution_count": 11,
   "metadata": {},
   "outputs": [
    {
     "data": {
      "text/plain": [
       "0.9615239476408232"
      ]
     },
     "execution_count": 11,
     "metadata": {},
     "output_type": "execute_result"
    }
   ],
   "source": [
    "from sklearn.cluster import KMeans\n",
    "from sklearn import metrics\n",
    "#假定K=2为真实分类\n",
    "labels2 = KMeans(n_clusters=2).fit(X).labels_\n",
    "#使用K=3为预测分类\n",
    "labels3 = KMeans(n_clusters=3).fit(X).labels_\n",
    "\n",
    "metrics.fowlkes_mallows_score(labels2, labels3)"
   ]
  },
  {
   "cell_type": "markdown",
   "metadata": {},
   "source": [
    "#### Calinski-Harabaz Index\n",
    "类别内部数据的协方差越小越好，类别之间的协方差越大越好，这样的Calinski-Harabasz分数会高。    \n",
    "在真实的分群label不知道的情况下，可以作为评估模型的一个指标。   \n",
    "同时，数值越小可以理解为：组间协方差很小，组与组之间界限不明显。   \n",
    "与轮廓系数的对比，最大的优势：快！相差几百倍！毫秒级。  \n",
    "$s(k)=\\frac{tr(B_k)}{tr(W_k)}\\frac{m-k}{k-1}$  \n",
    "m为训练样本数，k是类别个数，$B_k$是类别之间协方差矩阵，$W_k$是类别内部数据协方差矩阵，tr为矩阵的迹"
   ]
  },
  {
   "cell_type": "code",
   "execution_count": 12,
   "metadata": {},
   "outputs": [
    {
     "data": {
      "text/html": [
       "<div>\n",
       "<style scoped>\n",
       "    .dataframe tbody tr th:only-of-type {\n",
       "        vertical-align: middle;\n",
       "    }\n",
       "\n",
       "    .dataframe tbody tr th {\n",
       "        vertical-align: top;\n",
       "    }\n",
       "\n",
       "    .dataframe thead th {\n",
       "        text-align: right;\n",
       "    }\n",
       "</style>\n",
       "<table border=\"1\" class=\"dataframe\">\n",
       "  <thead>\n",
       "    <tr style=\"text-align: right;\">\n",
       "      <th></th>\n",
       "      <th>0</th>\n",
       "      <th>1</th>\n",
       "      <th>2</th>\n",
       "      <th>3</th>\n",
       "      <th>4</th>\n",
       "      <th>5</th>\n",
       "      <th>6</th>\n",
       "      <th>7</th>\n",
       "      <th>8</th>\n",
       "      <th>9</th>\n",
       "      <th>10</th>\n",
       "      <th>11</th>\n",
       "      <th>12</th>\n",
       "      <th>13</th>\n",
       "      <th>14</th>\n",
       "      <th>15</th>\n",
       "      <th>16</th>\n",
       "      <th>17</th>\n",
       "    </tr>\n",
       "  </thead>\n",
       "  <tbody>\n",
       "    <tr>\n",
       "      <th>lables</th>\n",
       "      <td>2.000000</td>\n",
       "      <td>3.000000</td>\n",
       "      <td>4.000000</td>\n",
       "      <td>5.000000</td>\n",
       "      <td>6.000000</td>\n",
       "      <td>7.000000</td>\n",
       "      <td>8.000000</td>\n",
       "      <td>9.00000</td>\n",
       "      <td>10.000000</td>\n",
       "      <td>11.000000</td>\n",
       "      <td>12.000000</td>\n",
       "      <td>13.00000</td>\n",
       "      <td>14.000000</td>\n",
       "      <td>15.000000</td>\n",
       "      <td>16.000000</td>\n",
       "      <td>17.000000</td>\n",
       "      <td>18.000000</td>\n",
       "      <td>19.000000</td>\n",
       "    </tr>\n",
       "    <tr>\n",
       "      <th>score</th>\n",
       "      <td>67.182349</td>\n",
       "      <td>55.475789</td>\n",
       "      <td>73.288695</td>\n",
       "      <td>72.464314</td>\n",
       "      <td>76.215889</td>\n",
       "      <td>78.566092</td>\n",
       "      <td>89.141699</td>\n",
       "      <td>94.06643</td>\n",
       "      <td>93.646362</td>\n",
       "      <td>103.602828</td>\n",
       "      <td>121.888652</td>\n",
       "      <td>152.72172</td>\n",
       "      <td>175.851258</td>\n",
       "      <td>249.111196</td>\n",
       "      <td>531.834374</td>\n",
       "      <td>1292.191074</td>\n",
       "      <td>1347.956556</td>\n",
       "      <td>1766.928003</td>\n",
       "    </tr>\n",
       "  </tbody>\n",
       "</table>\n",
       "</div>"
      ],
      "text/plain": [
       "               0          1          2          3          4          5   \\\n",
       "lables   2.000000   3.000000   4.000000   5.000000   6.000000   7.000000   \n",
       "score   67.182349  55.475789  73.288695  72.464314  76.215889  78.566092   \n",
       "\n",
       "               6         7          8           9           10         11  \\\n",
       "lables   8.000000   9.00000  10.000000   11.000000   12.000000   13.00000   \n",
       "score   89.141699  94.06643  93.646362  103.602828  121.888652  152.72172   \n",
       "\n",
       "                12          13          14           15           16  \\\n",
       "lables   14.000000   15.000000   16.000000    17.000000    18.000000   \n",
       "score   175.851258  249.111196  531.834374  1292.191074  1347.956556   \n",
       "\n",
       "                 17  \n",
       "lables    19.000000  \n",
       "score   1766.928003  "
      ]
     },
     "execution_count": 12,
     "metadata": {},
     "output_type": "execute_result"
    }
   ],
   "source": [
    "scores = []\n",
    "for k in range(2,20):\n",
    "    labels = KMeans(n_clusters=k).fit(X).labels_\n",
    "    score = metrics.calinski_harabaz_score(X, labels)\n",
    "    scores.append((k,score))\n",
    "scores = pd.DataFrame(scores,columns=[\"lables\",\"score\"])\n",
    "scores.T"
   ]
  },
  {
   "cell_type": "code",
   "execution_count": 13,
   "metadata": {},
   "outputs": [
    {
     "data": {
      "text/plain": [
       "Text(0,0.5,'Sihouette Score')"
      ]
     },
     "execution_count": 13,
     "metadata": {},
     "output_type": "execute_result"
    },
    {
     "data": {
      "image/png": "[encoded data removed]",
      "text/plain": [
       "<Figure size 432x288 with 1 Axes>"
      ]
     },
     "metadata": {},
     "output_type": "display_data"
    }
   ],
   "source": [
    "import matplotlib.pyplot as plt  \n",
    "plt.plot(list(range(2,20)), scores.score)\n",
    "plt.xlabel(\"Number of Clusters Initialized\")\n",
    "plt.ylabel(\"Sihouette Score\")"
   ]
  }
 ],
 "metadata": {
  "kernelspec": {
   "display_name": "Python 3",
   "language": "python",
   "name": "python3"
  },
  "language_info": {
   "codemirror_mode": {
    "name": "ipython",
    "version": 3
   },
   "file_extension": ".py",
   "mimetype": "text/x-python",
   "name": "python",
   "nbconvert_exporter": "python",
   "pygments_lexer": "ipython3",
   "version": "3.6.5"
  }
 },
 "nbformat": 4,
 "nbformat_minor": 2
}
