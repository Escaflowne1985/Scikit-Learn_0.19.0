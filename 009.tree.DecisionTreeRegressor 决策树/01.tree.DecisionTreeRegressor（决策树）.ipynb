{
 "cells": [
  {
   "cell_type": "markdown",
   "metadata": {},
   "source": [
    "# DecisionTreeRegressor\n",
    "(criterion='mse', splitter='best', max_depth=None, min_samples_split=2, min_samples_leaf=1, min_weight_fraction_leaf=0.0, max_features=None, random_state=None, max_leaf_nodes=None, min_impurity_decrease=0.0, min_impurity_split=None, presort=False)"
   ]
  },
  {
   "cell_type": "markdown",
   "metadata": {},
   "source": [
    "* <font color=red>criterion</font>: string, optional (default=”mse”)  \n",
    "用来测量分割质量的函数。 支持的标准是平均平方误差的“mse”，等于方差约简作为特征选择准则，利用每个终端节点的均值使L2损失最小化， 其中，“friedman_mse”和“mae”分别表示平均绝对误差(mean absolute error)和平均平方误差(mean squared error)，其中“mae”表示平均绝对误差(mean absolute error)，“mae”表示平均绝对误差(mean absolute error)。  \n",
    "版本0.18:平均绝对误差(MAE)标准。\n",
    "* <font color=red>splitter</font>: string, optional (default=”best”)  \n",
    "用于在每个节点选择分割的策略。支持的策略是“最佳”选择最佳分割，“随机”选择最佳随机分割。\n",
    "* <font color=red>max_depth</font>: int or None, optional (default=None)  \n",
    "树的最大深度。如果没有节点，则展开节点，直到所有叶子都是纯的，或者直到所有叶子包含的样本都小于min_samples_split。\n",
    "* <font color=red>min_samples_split</font>: int, float, optional (default=2)  \n",
    "分割内部节点所需的最小样本数量:  \n",
    "int:min_samples_split作为最小值。\n",
    "float:min_samples_split是一个分数，ceil(min_samples_split * n_samples)是每个分割的最小样本数。\n",
    "* <font color=red>min_samples_leaf</font>: int, float, optional (default=1)  \n",
    "叶节点上所需最小样本数。在左分支和右分支中至少留下min_samples_leaf训练样本时，会考虑任何深度分割点。这可能有平滑模型的效果，特别是在回归中。  \n",
    "int:min_samples_leaf作为最小值。  \n",
    "float:min_samples_leaf是一个分数，ceil(min_samples_leaf * n_samples)是每个节点的最小样本数。\n",
    "* <font color=red>min_weight_fraction_leaf</font>: float, optional (default=0.)   \n",
    "叶节点上(所有输入样本的)权值之和的最小加权分数。当不提供sample_weight时，示例的权值相等。\n",
    "* <font color=red> max_features</font>: int, float, string or None, optional (default=None)  \n",
    "  - 在寻找最佳分割时需要考虑的特性数量:  \n",
    "  int:考虑每个分割处的max_features特性。  \n",
    "  float:max_features是一个分数，每个分割都考虑int(max_features * n_features)特性。  \n",
    "  'auto':max_features=n_features.  \n",
    "  'sqrt':max_features=sqrt(n_features).  \n",
    "  'log2':max_features=log2(n_features).  \n",
    "  None:then max_features=n_features.  \n",
    "  Note: 在找到节点样本的至少一个有效分区之前，对分割的搜索不会停止，即使它需要有效地检查max_features以外的特性。\n",
    "* <font color=red>random_state</font>: int, RandomState instance or None, optional (default=None)  \n",
    "如果是RandomState实例，random_state是随机数生成器;如果没有，随机数生成器是np.random使用的RandomState实例。\n",
    "* <font color=red>max_leaf_nodes</font>: int or None, optional (default=None)  \n",
    "以最佳优先的方式种植具有max_leaf_nodes的树。最佳节点定义为杂质的相对还原。如果没有，那么叶子节点的数量是无限的。\n",
    "* <font color=red>min_impurity_decrease</font>: float, optional (default=0.)  \n",
    "  - 如果这种分裂导致杂质的减少大于或等于这个值，节点将被分裂。加权杂质降低方程为:  \n",
    "  N_t / N * (impurity - N_t_R / N_t * right_impurity- N_t_L / N_t * left_impurity)  \n",
    "  其中N为样本总数，N_t是当前节点上的样本数量，N_t_L是左子节点中的样本数量，N_t_R右子节点中的样本数量  \n",
    "  N, N_t, N_t_R and N_t_L 如果传递sample_weight，则所有都引用加权和。\n",
    "* <font color=red>min_impurity_split</font>: float, (default=1e-7)  \n",
    "树木生长早期停止的阈值。如果一个节点的杂质超过阈值，它就会分裂，否则它就是一个叶子。\n",
    "* <font color=red>presort</font>: bool, optional (default=False)  \n",
    "是否对数据进行预排序，以加快拟合中最佳分割的发现。对于大型数据集上的决策树的默认设置，将其设置为true可能会减慢培训过程。当使用较小的数据集或有限的深度时，这可能会加快训练。"
   ]
  },
  {
   "cell_type": "code",
   "execution_count": 1,
   "metadata": {},
   "outputs": [
    {
     "data": {
      "text/plain": [
       "array([ 0.52939335,  0.60461936, -1.60907519,  0.4356399 ,  0.77280671,\n",
       "        0.40597035,  0.23656049,  0.38709149, -2.06488186, -0.95162992])"
      ]
     },
     "execution_count": 1,
     "metadata": {},
     "output_type": "execute_result"
    }
   ],
   "source": [
    "from sklearn.datasets import load_boston\n",
    "from sklearn.model_selection import cross_val_score\n",
    "from sklearn.tree import DecisionTreeRegressor\n",
    "boston = load_boston()\n",
    "regressor = DecisionTreeRegressor(random_state=0)\n",
    "cross_val_score(regressor, boston.data, boston.target, cv=10)"
   ]
  },
  {
   "cell_type": "code",
   "execution_count": null,
   "metadata": {},
   "outputs": [],
   "source": []
  }
 ],
 "metadata": {
  "kernelspec": {
   "display_name": "Python 3",
   "language": "python",
   "name": "python3"
  },
  "language_info": {
   "codemirror_mode": {
    "name": "ipython",
    "version": 3
   },
   "file_extension": ".py",
   "mimetype": "text/x-python",
   "name": "python",
   "nbconvert_exporter": "python",
   "pygments_lexer": "ipython3",
   "version": "3.6.5"
  }
 },
 "nbformat": 4,
 "nbformat_minor": 2
}
