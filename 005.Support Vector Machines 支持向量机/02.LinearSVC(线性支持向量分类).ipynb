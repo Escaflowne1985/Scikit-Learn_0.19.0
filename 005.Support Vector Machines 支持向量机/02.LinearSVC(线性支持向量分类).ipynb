{
 "cells": [
  {
   "cell_type": "markdown",
   "metadata": {},
   "source": [
    "# LinearSVC\n",
    "(penalty='l2', loss='squared_hinge', dual=True, tol=0.0001, C=1.0, multi_class='ovr', fit_intercept=True, intercept_scaling=1, class_weight=None, verbose=0, random_state=None, max_iter=1000)"
   ]
  },
  {
   "cell_type": "markdown",
   "metadata": {},
   "source": [
    "* <font color=red>penalty</font>:string,  \n",
    "'l1'or'l2'(default='l2')指定惩罚中使用的规范。“l2”惩罚是SVC中使用的标准。l1导致了稀疏的coef_向量。\n",
    "* <font color=red>loss</font>:string,'hinge'or'squared_hinge'(default='squared_hinge')  \n",
    "指定损失函数。铰链是SVC类使用的标准SVM损耗，而squared_铰链是铰链损耗的平方。\n",
    "* <font color=red>dual</font>:bool,(default=True)  \n",
    "选择求解对偶优化问题或原优化问题的算法。当n_samples>n_features时，更喜欢dual=False。\n",
    "* <font color=red>tol</font>:float,optional(default=1e-4)  \n",
    "停止标准的公差。\n",
    "* <font color=red>C</font>:float,optional(default=1.0)  \n",
    "错误项的惩罚参数C。\n",
    "* <font color=red>multi_class</font>:string,'ovr'or'crammer_singer'(default='ovr')  \n",
    "如果y包含两个以上的类，则确定多类策略。“ovr”训练n_classesone-vs-rest分类器，而“crammer_singer”优化所有类的联合目标。虽然crammer_singer从理论的角度来看很有趣，因为它是一致的，但是在实践中很少使用它，因为它很少带来更好的准确性，而且计算成本更高。如果选择“crammer_singer”，则会忽略选项loss、penalty和dual。\n",
    "* <font color=red>fit_intercept</font>:boolean,optional(default=True)  \n",
    "是否计算该模型的截距。如果设置为false，则不会在计算中使用拦截(即数据应该已经居中)。\n",
    "* <font color=red>intercept_scaling</font>:float,optional(default=1)  \n",
    "当self.fit_intercept为真，实例向量x变为[x,self.intercept_scaling]，即在实例向量上附加一个与intercept_scaling等值的“合成”特征。拦截变成拦截缩放*合成功能权重注意!合成特征的权值与其他特征一样服从l1/l2正则化。为了减少正则化对合成特征权值(从而对截距)的影响，拦截尺度必须增加。\n",
    "* <font color=red>class_weight</font>:{dict,'balanced'},optional  \n",
    "对于SVC，将类i的参数C设置为class_weight[i]*C。如果没有给出，所有类的权值都应该是1。“平衡”模式使用y的值作为n_samples/(n_classes*np.bincount(y))自动调整权重，权重与输入数据中的类频率成反比。\n",
    "* <font color=red>verbose</font>:int,(default=0)  \n",
    "启用详细输出。请注意，此设置利用了liblinear中的每个进程运行时设置，如果启用该设置，则该设置可能无法在多线程上下文中正常工作。\n",
    "* <font color=red>random_state</font>:int,RandomStateinstanceorNone,optional(default=None)  \n",
    "伪随机数发生器的种子，在对数据进行双坐标下降变换时使用(如果对偶=True)。当dual=False时，LinearSVC的底层实现不是随机的，random_state对结果没有影响。如果是int,random_state是随机数生成器使用的种子;如果是RandomState实例，random_state是随机数生成器;如果没有，随机数生成器是np.random使用的RandomState实例。\n",
    "* <font color=red>max_iter</font>:int,(default=1000)  \n",
    "要运行的迭代的最大次数。"
   ]
  },
  {
   "cell_type": "code",
   "execution_count": 1,
   "metadata": {},
   "outputs": [
    {
     "name": "stdout",
     "output_type": "stream",
     "text": [
      "[[0.0855181  0.39414765 0.49848052 0.37514311]]\n",
      "[0.28417574]\n",
      "[1]\n"
     ]
    }
   ],
   "source": [
    "from sklearn.svm import LinearSVC\n",
    "from sklearn.datasets import make_classification\n",
    "X, y = make_classification(n_features=4, random_state=0)\n",
    "clf = LinearSVC(random_state=0, tol=1e-5)\n",
    "clf.fit(X, y)\n",
    "\n",
    "\n",
    "\n",
    "print(clf.coef_)\n",
    "\n",
    "print(clf.intercept_)\n",
    "\n",
    "print(clf.predict([[0, 0, 0, 0]]))\n"
   ]
  },
  {
   "cell_type": "code",
   "execution_count": null,
   "metadata": {},
   "outputs": [],
   "source": []
  }
 ],
 "metadata": {
  "kernelspec": {
   "display_name": "Python 3",
   "language": "python",
   "name": "python3"
  },
  "language_info": {
   "codemirror_mode": {
    "name": "ipython",
    "version": 3
   },
   "file_extension": ".py",
   "mimetype": "text/x-python",
   "name": "python",
   "nbconvert_exporter": "python",
   "pygments_lexer": "ipython3",
   "version": "3.6.5"
  }
 },
 "nbformat": 4,
 "nbformat_minor": 2
}
