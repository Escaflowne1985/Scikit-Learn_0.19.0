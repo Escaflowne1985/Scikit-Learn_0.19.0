{
 "cells": [
  {
   "cell_type": "markdown",
   "metadata": {},
   "source": [
    "# LinearSVR\n",
    "(epsilon=0.0, tol=0.0001, C=1.0, loss='epsilon_insensitive', fit_intercept=True, intercept_scaling=1.0, dual=True, verbose=0, random_state=None, max_iter=1000)"
   ]
  },
  {
   "cell_type": "markdown",
   "metadata": {},
   "source": [
    "* <font color=red>epsilon</font>: float, optional (default=0.1)  \n",
    "不敏感损失函数中的参数。注意，该参数的值取决于目标变量y的尺度，如果不确定，则令=0。\n",
    "* <font color=red>tol</font>: float, optional (default=1e-4)   \n",
    "停止标准的公差。\n",
    "* <font color=red>C</font>: float, optional (default=1.0)   \n",
    "错误项的惩罚参数C。惩罚是a²l2。参数越大，正则化越少。\n",
    "* <font color=red>loss</font>: string, optional (default='epsilon_insensitive')  \n",
    "指定损失函数。爱扑塞隆不敏感损失(标准SVR)是L1损失，平方爱扑塞隆不敏感损失(“squared_epsilon_”)是L2损失。\n",
    "* <font color=red>fit_intercept</font>: boolean, optional (default=True)  \n",
    "否计算该模型的截距。如果设置为false，则不会在计算中使用拦截(即数据应该已经居中)。\n",
    "* <font color=red>intercept_scaling</font>: float, optional (default=1)  \n",
    "当self.fit_intercept为真，实例向量x变为[x, self.intercept_scaling]，即在实例向量上附加一个与intercept_scaling等值的“合成”特征。拦截变成拦截缩放*合成功能权重注意!合成特征的权值与其他特征一样服从l1/l2正则化。为了减少正则化对合成特征权值(从而对截距)的影响，拦截尺度必须增加。\n",
    "* <font color=red>dual</font>: bool, (default=True)  \n",
    "选择求解对偶优化问题或原优化问题的算法。当n_samples > n_features时，更喜欢dual=False。\n",
    "* <font color=red>verbose</font>: int, (default=0)  \n",
    "启用详细输出。请注意，此设置利用了liblinear中的每个进程运行时设置，如果启用该设置，则该设置可能无法在多线程上下文中正常工作。\n",
    "* <font color=red>random_state</font>: int, RandomState instance or None, optional (default=None)  \n",
    "如果是RandomState实例，random_state是随机数生成器;如果没有，随机数生成器是np.random使用的RandomState实例。\n",
    "* <font color=red>max_iter</font>: int, (default=1000)  \n",
    "要运行的迭代的最大次数。"
   ]
  },
  {
   "cell_type": "code",
   "execution_count": 1,
   "metadata": {},
   "outputs": [
    {
     "name": "stdout",
     "output_type": "stream",
     "text": [
      "[16.35939625 26.91631758 42.30630929 60.47790283]\n",
      "[-4.29697667]\n",
      "[-4.29697667]\n"
     ]
    }
   ],
   "source": [
    "from sklearn.svm import LinearSVR\n",
    "from sklearn.datasets import make_regression\n",
    "X, y = make_regression(n_features=4, random_state=0)\n",
    "regr = LinearSVR(random_state=0, tol=1e-5)\n",
    "regr.fit(X, y)\n",
    "\n",
    "\n",
    "\n",
    "print(regr.coef_)\n",
    "\n",
    "print(regr.intercept_)\n",
    "\n",
    "print(regr.predict([[0, 0, 0, 0]]))"
   ]
  },
  {
   "cell_type": "code",
   "execution_count": null,
   "metadata": {},
   "outputs": [],
   "source": []
  }
 ],
 "metadata": {
  "kernelspec": {
   "display_name": "Python 3",
   "language": "python",
   "name": "python3"
  },
  "language_info": {
   "codemirror_mode": {
    "name": "ipython",
    "version": 3
   },
   "file_extension": ".py",
   "mimetype": "text/x-python",
   "name": "python",
   "nbconvert_exporter": "python",
   "pygments_lexer": "ipython3",
   "version": "3.6.5"
  }
 },
 "nbformat": 4,
 "nbformat_minor": 2
}
