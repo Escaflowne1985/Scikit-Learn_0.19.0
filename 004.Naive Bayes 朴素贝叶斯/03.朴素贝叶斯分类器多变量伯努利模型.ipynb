{
 "cells": [
  {
   "cell_type": "markdown",
   "metadata": {},
   "source": [
    "# BernoulliNB\n",
    "(alpha=1.0, binarize=0.0, fit_prior=True, class_prior=None)"
   ]
  },
  {
   "cell_type": "markdown",
   "metadata": {},
   "source": [
    "* <font color=red>alpha</font>: float, optional (default=1.0)   \n",
    "附加的(拉普拉斯/Lidstone)平滑参数(0表示没有平滑)。\n",
    "* <font color=red>binarize</font>: float or None, optional (default=0.0)   \n",
    "样本特征的二值化(映射到布尔值)阈值。如果没有，则假定输入已经由二进制向量组成。\n",
    "* <font color=red>fit_prior</font>: boolean, optional (default=True)   \n",
    "是否学习类先验概率。如果错误，将使用统一的先验。\n",
    "* <font color=red>class_prior</font>: array-like, size=[n_classes,], optional (default=None)   \n",
    "类的先验概率。如果指定，则不根据数据调整先验。"
   ]
  },
  {
   "cell_type": "code",
   "execution_count": 1,
   "metadata": {},
   "outputs": [
    {
     "name": "stdout",
     "output_type": "stream",
     "text": [
      "[3]\n"
     ]
    }
   ],
   "source": [
    "import numpy as np\n",
    "X = np.random.randint(2, size=(6, 100))\n",
    "Y = np.array([1, 2, 3, 4, 4, 5])\n",
    "from sklearn.naive_bayes import BernoulliNB\n",
    "clf = BernoulliNB()\n",
    "clf.fit(X, Y)\n",
    "\n",
    "print(clf.predict(X[2:3]))"
   ]
  },
  {
   "cell_type": "code",
   "execution_count": null,
   "metadata": {},
   "outputs": [],
   "source": []
  }
 ],
 "metadata": {
  "kernelspec": {
   "display_name": "Python 3",
   "language": "python",
   "name": "python3"
  },
  "language_info": {
   "codemirror_mode": {
    "name": "ipython",
    "version": 3
   },
   "file_extension": ".py",
   "mimetype": "text/x-python",
   "name": "python",
   "nbconvert_exporter": "python",
   "pygments_lexer": "ipython3",
   "version": "3.6.5"
  }
 },
 "nbformat": 4,
 "nbformat_minor": 2
}
