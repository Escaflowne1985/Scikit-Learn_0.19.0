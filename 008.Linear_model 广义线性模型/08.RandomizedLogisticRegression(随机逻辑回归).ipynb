{
 "cells": [
  {
   "cell_type": "markdown",
   "metadata": {},
   "source": [
    "# RandomizedLogisticRegression(*args, **kwargs)"
   ]
  },
  {
   "cell_type": "markdown",
   "metadata": {},
   "source": [
    "* <font color=red>C</font>: float or array-like of shape [n_reg_parameter], optional, default=1  \n",
    "The regularization parameter C in the LogisticRegression. When C is an array, fit will take each regularization parameter in C one by one for LogisticRegression and store results for each one in all_scores_, where columns and rows represent corresponding reg_parameters and features.\n",
    "\n",
    "* <font color=red>scaling</font>: float, optional, default=0.5  \n",
    "The s parameter used to randomly scale the penalty of different features. Should be between 0 and 1.\n",
    "\n",
    "* <font color=red>sample_fraction</font>: float, optional, default=0.75  \n",
    "The fraction of samples to be used in each randomized design. Should be between 0 and 1. If 1, all samples are used.\n",
    "\n",
    "* <font color=red>n_resampling</font>: int, optional, default=200  \n",
    "Number of randomized models.\n",
    "\n",
    "* <font color=red>selection_threshold</font>: float, optional, default=0.25  \n",
    "The score above which features should be selected.\n",
    "\n",
    "* <font color=red>tol</font>: float, optional, default=1e-3  \n",
    "tolerance for stopping criteria of LogisticRegression\n",
    "\n",
    "* <font color=red>fit_intercept</font>: boolean, optional, default=True  \n",
    "whether to calculate the intercept for this model. If set to false, no intercept will be used in calculations (e.g. data is expected to be already centered).\n",
    "\n",
    "* <font color=red>verbose</font>: boolean or integer, optional  \n",
    "Sets the verbosity amount\n",
    "\n",
    "* <font color=red>normalize</font>: boolean, optional, default True  \n",
    "If True, the regressors X will be normalized before regression. This parameter is ignored when fit_intercept is set to False. When the regressors are normalized, note that this makes the hyperparameters learnt more robust and almost independent of the number of samples. The same property is not valid for standardized data. However, if you wish to standardize, please use preprocessing.StandardScaler before calling fit on an estimator with normalize=False.\n",
    "\n",
    "* <font color=red>random_state</font>: int, RandomState instance or None, optional (default=None)  \n",
    "If int, random_state is the seed used by the random number generator; If RandomState instance, random_state is the random number generator; If None, the random number generator is the RandomState instance used by np.random.\n",
    "\n",
    "* <font color=red>n_jobs</font>: int or None, optional (default=None)  \n",
    "Number of CPUs to use during the resampling. None means 1 unless in a joblib.parallel_backend context. -1 means using all processors. See Glossary for more details.\n",
    "\n",
    "* <font color=red>pre_dispatch</font>: int, or string, optional  \n",
    "Controls the number of jobs that get dispatched during parallel execution. Reducing this number can be useful to avoid an explosion of memory consumption when more jobs get dispatched than CPUs can process. This parameter can be:\n",
    "None, in which case all the jobs are immediately created and spawned. Use this for lightweight and fast-running jobs, to avoid delays due to on-demand spawning of the jobs\n",
    "An int, giving the exact number of total jobs that are spawned\n",
    "A string, giving an expression as a function of n_jobs, as in ‘2*n_jobs’\n",
    "* <font color=red>memory</font>: None, str or object with the joblib.Memory interface, optional (default=None)  \n",
    "Used for internal caching. By default, no caching is done. If a string is given, it is the path to the caching directory."
   ]
  },
  {
   "cell_type": "code",
   "execution_count": 3,
   "metadata": {},
   "outputs": [
    {
     "name": "stderr",
     "output_type": "stream",
     "text": [
      "D:\\work tools\\Anaconda3\\lib\\site-packages\\sklearn\\utils\\deprecation.py:58: DeprecationWarning: Class RandomizedLogisticRegression is deprecated; The class RandomizedLogisticRegression is deprecated in 0.19 and will be removed in 0.21.\n",
      "  warnings.warn(msg, category=DeprecationWarning)\n"
     ]
    }
   ],
   "source": [
    "from sklearn.linear_model import RandomizedLogisticRegression\n",
    "randomized_logistic = RandomizedLogisticRegression() "
   ]
  }
 ],
 "metadata": {
  "kernelspec": {
   "display_name": "Python 3",
   "language": "python",
   "name": "python3"
  },
  "language_info": {
   "codemirror_mode": {
    "name": "ipython",
    "version": 3
   },
   "file_extension": ".py",
   "mimetype": "text/x-python",
   "name": "python",
   "nbconvert_exporter": "python",
   "pygments_lexer": "ipython3",
   "version": "3.6.5"
  }
 },
 "nbformat": 4,
 "nbformat_minor": 2
}
