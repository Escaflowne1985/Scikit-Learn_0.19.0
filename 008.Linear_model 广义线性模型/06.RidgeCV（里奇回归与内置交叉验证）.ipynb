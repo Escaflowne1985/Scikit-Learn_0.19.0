{
 "cells": [
  {
   "cell_type": "markdown",
   "metadata": {},
   "source": [
    "# RidgeCV\n",
    "(alphas=(0.1, 1.0, 10.0), fit_intercept=True, normalize=False, scoring=None, cv=None, gcv_mode=None, store_cv_values=False)"
   ]
  },
  {
   "cell_type": "markdown",
   "metadata": {},
   "source": [
    "* <font color=red>alphas</font>: numpy array of shape   \n",
    "[n_alphas]要尝试的alpha值数组。正则化力量;必须是正数。正则化改善了问题的条件，减少了估计的方差。较大的值指定较强的正则化。α对应C ^ 1 LogisticRegression或LinearSVC等其他线性模型。\n",
    "* <font color=red>fit_intercept</font>: boolean   \n",
    "是否计算该模型的截距。如果设置为false，将不会在计算中使用拦截(例如，预期数据已经居中)。\n",
    "* <font color=red>normalize</font>: boolean, optional, default False   \n",
    "当fit_intercept设置为False时，将忽略此参数。如果为真，回归前的回归变量X将被归一化，方法是减去均值，除以l2范数。如果您希望标准化，请使用sklearn.预处理。调用normalize=False的估计值前的StandardScaler。\n",
    "* <font color=red>scoring</font>: string, callable or None, optional, default: None   \n",
    "一个字符串(参见模型评估文档)或一个带有签名得分器(估计器，X, y)的得分器可调用对象/函数。\n",
    "* <font color=red>cv</font>: int, cross-validation generator or an iterable, optional   \n",
    "  - 确定交叉验证拆分策略。cv的可能输入是:  \n",
    "  None，要使用有效的Leave-One-Out交叉验证\n",
    "  integer，指定折叠的次数。\n",
    "  CV splitter,一个可迭代的产生(训练，测试)作为索引数组分割。\n",
    "  对于整数/无输入，如果y是二进制或多类，则sklearn.model_selection。使用statifiedkfold，否则，调用sklearn.model_selection。KFold使用。\n",
    "  有关这里可以使用的各种交叉验证策略，请参阅用户指南。\n",
    "* <font color=red>gcv_mode</font>: {None, ‘auto’, ‘svd’, eigen’}, optional   \n",
    "  - 指示在执行广义交叉验证时使用哪种策略的标志。选项有:  \n",
    "  'auto':如果n_samples > n_features或X是稀疏的，则使用svd矩阵，否则使用特征。 \n",
    "  'svd':通过X的奇异值分解计算力(不适用于稀疏矩阵)  \n",
    "  'eigen':force计算通过eigendecomposition X ^ T X  \n",
    "  'auto':模式是默认模式，目的是根据训练数据的形状和格式从两者中选择更便宜的选项。\n",
    "* <font color=red>store_cv_values</font>: boolean, default=False   \n",
    "标志，指示是否应将每个alpha对应的交叉验证值存储在cv_values_属性中(参见下面)。此标志仅与cv=None兼容(即使用广义交叉验证)。"
   ]
  },
  {
   "cell_type": "code",
   "execution_count": 6,
   "metadata": {},
   "outputs": [
    {
     "data": {
      "text/plain": [
       "0.5166287840315831"
      ]
     },
     "execution_count": 6,
     "metadata": {},
     "output_type": "execute_result"
    }
   ],
   "source": [
    "from sklearn.datasets import load_diabetes\n",
    "from sklearn.linear_model import RidgeCV\n",
    "X, y = load_diabetes(return_X_y=True)\n",
    "clf = RidgeCV(alphas=[1e-3, 1e-2, 1e-1, 1]).fit(X, y)\n",
    "clf.score(X, y) "
   ]
  },
  {
   "cell_type": "code",
   "execution_count": null,
   "metadata": {},
   "outputs": [],
   "source": []
  }
 ],
 "metadata": {
  "kernelspec": {
   "display_name": "Python 3",
   "language": "python",
   "name": "python3"
  },
  "language_info": {
   "codemirror_mode": {
    "name": "ipython",
    "version": 3
   },
   "file_extension": ".py",
   "mimetype": "text/x-python",
   "name": "python",
   "nbconvert_exporter": "python",
   "pygments_lexer": "ipython3",
   "version": "3.6.5"
  }
 },
 "nbformat": 4,
 "nbformat_minor": 2
}
