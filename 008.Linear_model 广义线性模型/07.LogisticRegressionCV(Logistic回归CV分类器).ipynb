{
 "cells": [
  {
   "cell_type": "markdown",
   "metadata": {},
   "source": [
    "# LogisticRegressionCV\n",
    "(Cs=10, fit_intercept=True, cv=’warn’, dual=False, penalty=’l2’, scoring=None, solver=’lbfgs’, tol=0.0001, max_iter=100, class_weight=None, n_jobs=None, verbose=0, refit=True, intercept_scaling=1.0, multi_class=’warn’, random_state=None)"
   ]
  },
  {
   "cell_type": "markdown",
   "metadata": {},
   "source": [
    "* <font color=red>Cs</font>: list of floats | int  \n",
    "Cs中的每一个值都描述了正则化强度的倒数。如果Cs是一个int，那么在1e-4和1e4之间选择一个对数刻度的Cs值网格。与支持向量机一样，较小的值指定了更强的正则化。\n",
    "* <font color=red>fit_intercept</font>: bool, default: True  \n",
    "指定是否应该将常数(即偏差或拦截)添加到决策函数中。\n",
    "* <font color=red>cv</font>: integer or cross-validation generator, default: None  \n",
    "使用的默认交叉验证生成器是分层k - fold。如果提供了一个整数，那么它就是使用的折叠次数。参见模块sklearn。用于可能的交叉验证对象列表的model_selection模块。\n",
    "在版本0.20中更改:cv默认值，如果在v0.22从3折变为5折。\n",
    "* <font color=red>dual</font>: bool  \n",
    "Dual or primal formulation. Dual formulation is only implemented for l2 penalty with liblinear solver. Prefer dual=False when n_samples > n_features.\n",
    "* <font color=red>penalty</font>: str, 'l1' or 'l2'  \n",
    "用于指定处罚中使用的规范。 The 'newton-cg', 'sag' and 'lbfgs' solvers support only l2 penalties.\n",
    "* <font color=red>scoring</font>: string, callable, or None  \n",
    "A string (see model evaluation documentation) or a scorer callable object / function with signature scorer(estimator, X, y). For a list of scoring functions that can be used, look at sklearn.metrics. The default scoring option used is 'accuracy'.\n",
    "* <font color=red>solver</font>: str, {'newton-cg', 'lbfgs', 'liblinear', 'sag', 'saga'}, default: 'lbfgs'.  \n",
    "  - 算法用于优化问题。  \n",
    "  For small datasets, 'liblinear' is a good choice, whereas 'sag' and 'saga' are faster for large ones.  \n",
    "  For multiclass problems, only 'newton-cg', 'sag', 'saga' and 'lbfgs' handle multinomial loss; 'liblinear' is limited to one-versus-rest schemes.  \n",
    "  'newton-cg', 'lbfgs' and 'sag' only handle L2 penalty, whereas 'liblinear' and 'saga' handle L1 penalty.  \n",
    "  'liblinear' might be slower in LogisticRegressionCV because it does not handle warm-starting.  \n",
    "  Note that 'sag' and 'saga' fast convergence is only guaranteed on features with approximately the same scale. You can preprocess the data with a scaler from sklearn.preprocessing.  \n",
    "  New in version 0.17: Stochastic Average Gradient descent solver.  \n",
    "  New in version 0.19: SAGA solver.\n",
    "* <font color=red>tol</font>: float, optional  \n",
    "停止标准的公差。\n",
    "* <font color=red>max_iter</font>: int, optional  \n",
    "优化算法的最大迭代次数。\n",
    "* <font color=red>class_weight</font>: dict or 'balanced', optional  \n",
    "与表单{class_label: weight}中的类关联的权重。如果没有给出，所有类的权值都应该是1。  \n",
    "“balanced”模式使用y的值作为n_samples / (n_classes * np.bincount(y))自动调整权重，权重与输入数据中的类频率成反比。注意，如果指定sample_weight，这些权重将与sample_weight相乘(通过fit方法传递)。  \n",
    "New in version 0.17: class_weight == 'balanced'\n",
    "* <font color=red>n_jobs</font>: int or None, optional (default=None)  \n",
    "线程数\n",
    "* <font color=red>verbose</font>: int  \n",
    "For the 'liblinear', 'sag' and 'lbfgs' solvers set verbose to any positive number for verbosity.\n",
    "* <font color=red>refit</font>: bool  \n",
    "如果设置为True，则在所有折叠中取平均分数，并取与最佳分数相对应的coefs和C，最后使用这些参数进行重新编译。 否则对应于跨褶曲的最佳分数的coefs, intercepts and C将被平均。  \n",
    "<font color=red>intercept_scaling</font>: float, default 1.  \n",
    "Useful only when the solver 'liblinear' is used and self.fit_intercept is set to True. In this case, x becomes [x, self.intercept_scaling], i.e. a “synthetic” feature with constant value equal to intercept_scaling is appended to the instance vector. The intercept becomes intercept_scaling * synthetic_feature_weight.  \n",
    "Note! the synthetic feature weight is subject to l1/l2 regularization as all other features. To lessen the effect of regularization on synthetic feature weight (and therefore on the intercept) intercept_scaling has to be increased.\n",
    "* <font color=red>multi_class</font>: str, {'ovr', 'multinomial', 'auto'}, default: 'ovr'  \n",
    "如果选择的选项是ovr，那么每个标签都适用一个二进制问题。对于多项式，最小损失是多项式损失与整个概率分布的拟合， 即使数据是二进制的。solver=“liblinear”时，“多项式”不可用。如果数据是二进制的，“auto”选择“ovr”，或者如果solver=“liblinear”，则选择“多项式”。\n",
    "版本0.18:随机平均梯度下降求解“多项式”情况。  \n",
    "版本0.20:Default'auto'\n",
    "* <font color=red>random_state</font>: int, RandomState instance or None, optional, default None  \n",
    "如果是int, random_state是随机数生成器使用的种子;如果是RandomState实例，random_state是随机数生成器;如果没有，随机数生成器是np.random使用的RandomState实例。"
   ]
  },
  {
   "cell_type": "code",
   "execution_count": 2,
   "metadata": {},
   "outputs": [],
   "source": [
    "import warnings\n",
    "warnings.filterwarnings(\"ignore\")"
   ]
  },
  {
   "cell_type": "code",
   "execution_count": 3,
   "metadata": {},
   "outputs": [
    {
     "data": {
      "text/plain": [
       "0.98"
      ]
     },
     "execution_count": 3,
     "metadata": {},
     "output_type": "execute_result"
    }
   ],
   "source": [
    "from sklearn.datasets import load_iris\n",
    "from sklearn.linear_model import LogisticRegressionCV\n",
    "X, y = load_iris(return_X_y=True)\n",
    "clf = LogisticRegressionCV(cv=5, random_state=0,\n",
    "                           multi_class='multinomial').fit(X, y)\n",
    "clf.predict(X[:2, :])\n",
    "\n",
    "clf.predict_proba(X[:2, :]).shape\n",
    "\n",
    "clf.score(X, y) "
   ]
  },
  {
   "cell_type": "code",
   "execution_count": null,
   "metadata": {},
   "outputs": [],
   "source": []
  }
 ],
 "metadata": {
  "kernelspec": {
   "display_name": "Python 3",
   "language": "python",
   "name": "python3"
  },
  "language_info": {
   "codemirror_mode": {
    "name": "ipython",
    "version": 3
   },
   "file_extension": ".py",
   "mimetype": "text/x-python",
   "name": "python",
   "nbconvert_exporter": "python",
   "pygments_lexer": "ipython3",
   "version": "3.6.5"
  }
 },
 "nbformat": 4,
 "nbformat_minor": 2
}
