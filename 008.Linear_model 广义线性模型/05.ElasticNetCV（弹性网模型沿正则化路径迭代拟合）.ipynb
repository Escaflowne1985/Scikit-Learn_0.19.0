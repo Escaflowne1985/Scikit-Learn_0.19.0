{
 "cells": [
  {
   "cell_type": "markdown",
   "metadata": {},
   "source": [
    "# ElasticNetCV\n",
    "(l1_ratio=0.5, eps=0.001, n_alphas=100, alphas=None, fit_intercept=True, normalize=False, precompute=’auto’, max_iter=1000, tol=0.0001, cv=’warn’, copy_X=True, verbose=0, n_jobs=None, positive=False, random_state=None, selection=’cyclic’)"
   ]
  },
  {
   "cell_type": "markdown",
   "metadata": {},
   "source": [
    "* <font color=red>l1_ratio</font>: float or array of floats, optional   \n",
    "在0和1之间浮动传递到ElasticNet (l1和l2之间缩放惩罚)。  \n",
    "对于l1_ratio = 0，是L2惩罚。对于l1_ratio = 1，是L1的惩罚。  \n",
    "对于0 < l1_ratio < 1，惩罚是L1和L2的组合，这个参数可以是一个列表，在这种情况下，通过交叉验证来测试不同的值，并使用给出最佳预测分数的值。注意，l1_ratio值列表的一个好的选择通常是将更多的值放在接近1(即Lasso)的地方，而将更少的值放在接近0(即Ridge)的地方，如[.1, .5, .7, .9, .95, .99, 1]\n",
    "* <font color=red>eps</font>: float, optional   \n",
    "路径的长度。eps=1e-3表示alpha_min / alpha_max =1e-3。\n",
    "* <font color=red>n_alphas</font>: int, optional   \n",
    "正则化路径上的阿尔法数，用于每个l1_ratio。\n",
    "* <font color=red>alphas</font>: numpy array, optional   \n",
    "用于计算模型的alphas列表。如果没有自动设置阿尔法\n",
    "* <font color=red>fit_intercept</font>: boolean   \n",
    "是否计算该模型的截距。如果设置为false，将不会在计算中使用拦截(例如，预期数据已经居中)。\n",
    "* <font color=red>normalize</font>: boolean, optional, default False   \n",
    "当fit_intercept设置为False时，将忽略此参数。如果为真，回归前的回归变量X将被归一化，方法是减去均值，除以l2范数。如果您希望标准化，请使用sklearn.预处理。调用normalize=False的估计值前的StandardScaler。\n",
    "* <font color=red>precompute</font>: True | False |'auto'| array-like   \n",
    "是否使用预先计算的克矩阵来加速计算。如果设置为'auto'。Gram矩阵也可以作为参数传递。\n",
    "* <font color=red>max_iter</font>: int, optional   \n",
    "迭代的最大次数\n",
    "* <font color=red>tol</font>: float, optional   \n",
    "优化容忍度:如果更新小于tol，优化代码检查双间隙的最优性，并继续，直到它小于tol。\n",
    "* <font color=red>cv</font>: int, cross-validation generator or an iterable, optional   \n",
    "  - 确定交叉验证拆分策略。cv的可能输入是:  \n",
    "  None,要使用默认的3-fold交叉验证，整数，指定折叠的次数。  \n",
    "  CV splitter,一个可迭代的产生(训练，测试)作为索引数组分割。对于整数/无输入，使用KFold。  \n",
    "  有关这里可以使用的各种交叉验证策略，请参阅用户指南。在 版本0.20中更改:cv默认值，如果在v0.22中没有从3折变为5折。\n",
    "* <font color=red>copy_X</font>: boolean, optional, default True   \n",
    "如果为真，则复制X;否则，它可能被覆盖。\n",
    "* <font color=red>verbose</font>: bool or integer   \n",
    "冗长。\n",
    "* <font color=red>n_jobs</font>: int or None, optional (default=None)  \n",
    "在交叉验证期间使用的cpu数量。没有一个意思是1，除非是在工作中。parallel_backend上下文。-1表示使用所有处理器。有关详细信息，请参见Glossary。\n",
    "* <font color=red>positive</font>: bool, optional   \n",
    "当设置为真时，强制系数为正。\n",
    "* <font color=red>random_state</font>: int, RandomState instance or None, optional, default None  \n",
    "选择要更新的随机特性的伪随机数生成器的种子。如果是int, random_state是随机数生成器使用的种子;如果是RandomState实例，random_state是随机数生成器;如果没有，随机数生成器是np.random使用的RandomState实例。当选择=='random'时使用。选择:str，默认为'cyclic'如果设置为'random'，则每次迭代都会更新一个随机系数，而不是默认情况下按顺序遍历特性。这(设置为'random')通常会显著加快收敛速度，特别是当tol值高于1e-4时。"
   ]
  },
  {
   "cell_type": "code",
   "execution_count": 2,
   "metadata": {},
   "outputs": [
    {
     "name": "stdout",
     "output_type": "stream",
     "text": [
      "0.1994727942696716\n",
      "0.39888296542768\n",
      "[0.39888297]\n"
     ]
    }
   ],
   "source": [
    "from sklearn.linear_model import ElasticNetCV\n",
    "from sklearn.datasets import make_regression\n",
    "\n",
    "X, y = make_regression(n_features=2, random_state=0)\n",
    "regr = ElasticNetCV(cv=5, random_state=0)\n",
    "regr.fit(X, y)\n",
    "print(regr.alpha_) \n",
    "\n",
    "print(regr.intercept_) \n",
    "\n",
    "print(regr.predict([[0, 0]])) "
   ]
  },
  {
   "cell_type": "code",
   "execution_count": null,
   "metadata": {},
   "outputs": [],
   "source": []
  }
 ],
 "metadata": {
  "kernelspec": {
   "display_name": "Python 3",
   "language": "python",
   "name": "python3"
  },
  "language_info": {
   "codemirror_mode": {
    "name": "ipython",
    "version": 3
   },
   "file_extension": ".py",
   "mimetype": "text/x-python",
   "name": "python",
   "nbconvert_exporter": "python",
   "pygments_lexer": "ipython3",
   "version": "3.6.5"
  }
 },
 "nbformat": 4,
 "nbformat_minor": 2
}
